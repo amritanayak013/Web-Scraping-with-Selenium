{
 "cells": [
  {
   "cell_type": "raw",
   "metadata": {},
   "source": [
    "Q6 : Scrape data of first 100 sunglasses listings on flipkart.com. You have to scrape four attributes:\n",
    "1. Brand\n",
    "2. Product Description\n",
    "3. Price\n",
    "4. Discount %"
   ]
  },
  {
   "cell_type": "code",
   "execution_count": 1,
   "metadata": {},
   "outputs": [],
   "source": [
    "import selenium\n",
    "import pandas as pd\n",
    "from selenium import webdriver"
   ]
  },
  {
   "cell_type": "code",
   "execution_count": 2,
   "metadata": {},
   "outputs": [],
   "source": [
    "#connecting to webdriver\n",
    "driver = webdriver.Chrome(r\"C://chromedriver.exe\")"
   ]
  },
  {
   "cell_type": "code",
   "execution_count": 3,
   "metadata": {},
   "outputs": [],
   "source": [
    "driver.get(\"https://www.flipkart.com/\")"
   ]
  },
  {
   "cell_type": "code",
   "execution_count": 4,
   "metadata": {},
   "outputs": [],
   "source": [
    "search_loc = driver.find_element_by_xpath (\"//input[@class = '_3704LK']\")\n",
    "search_loc.send_keys(\"Sunglasses\")"
   ]
  },
  {
   "cell_type": "code",
   "execution_count": 5,
   "metadata": {},
   "outputs": [
    {
     "ename": "NoSuchElementException",
     "evalue": "Message: no such element: Unable to locate element: {\"method\":\"xpath\",\"selector\":\"//div[@class ='L0Z3Pu']/button\"}\n  (Session info: chrome=89.0.4389.114)\n",
     "output_type": "error",
     "traceback": [
      "\u001b[1;31m---------------------------------------------------------------------------\u001b[0m",
      "\u001b[1;31mNoSuchElementException\u001b[0m                    Traceback (most recent call last)",
      "\u001b[1;32m<ipython-input-5-41994a0d5ac2>\u001b[0m in \u001b[0;36m<module>\u001b[1;34m\u001b[0m\n\u001b[1;32m----> 1\u001b[1;33m \u001b[0msearch_btn\u001b[0m \u001b[1;33m=\u001b[0m \u001b[0mdriver\u001b[0m\u001b[1;33m.\u001b[0m\u001b[0mfind_element_by_xpath\u001b[0m\u001b[1;33m(\u001b[0m\u001b[1;34m\"//div[@class ='L0Z3Pu']/button\"\u001b[0m\u001b[1;33m)\u001b[0m\u001b[1;33m\u001b[0m\u001b[1;33m\u001b[0m\u001b[0m\n\u001b[0m\u001b[0;32m      2\u001b[0m \u001b[0msearch_btn\u001b[0m\u001b[1;33m.\u001b[0m\u001b[0mclick\u001b[0m\u001b[1;33m(\u001b[0m\u001b[1;33m)\u001b[0m\u001b[1;33m\u001b[0m\u001b[1;33m\u001b[0m\u001b[0m\n",
      "\u001b[1;32m~\\anaconda3\\lib\\site-packages\\selenium\\webdriver\\remote\\webdriver.py\u001b[0m in \u001b[0;36mfind_element_by_xpath\u001b[1;34m(self, xpath)\u001b[0m\n\u001b[0;32m    392\u001b[0m             \u001b[0melement\u001b[0m \u001b[1;33m=\u001b[0m \u001b[0mdriver\u001b[0m\u001b[1;33m.\u001b[0m\u001b[0mfind_element_by_xpath\u001b[0m\u001b[1;33m(\u001b[0m\u001b[1;34m'//div/td[1]'\u001b[0m\u001b[1;33m)\u001b[0m\u001b[1;33m\u001b[0m\u001b[1;33m\u001b[0m\u001b[0m\n\u001b[0;32m    393\u001b[0m         \"\"\"\n\u001b[1;32m--> 394\u001b[1;33m         \u001b[1;32mreturn\u001b[0m \u001b[0mself\u001b[0m\u001b[1;33m.\u001b[0m\u001b[0mfind_element\u001b[0m\u001b[1;33m(\u001b[0m\u001b[0mby\u001b[0m\u001b[1;33m=\u001b[0m\u001b[0mBy\u001b[0m\u001b[1;33m.\u001b[0m\u001b[0mXPATH\u001b[0m\u001b[1;33m,\u001b[0m \u001b[0mvalue\u001b[0m\u001b[1;33m=\u001b[0m\u001b[0mxpath\u001b[0m\u001b[1;33m)\u001b[0m\u001b[1;33m\u001b[0m\u001b[1;33m\u001b[0m\u001b[0m\n\u001b[0m\u001b[0;32m    395\u001b[0m \u001b[1;33m\u001b[0m\u001b[0m\n\u001b[0;32m    396\u001b[0m     \u001b[1;32mdef\u001b[0m \u001b[0mfind_elements_by_xpath\u001b[0m\u001b[1;33m(\u001b[0m\u001b[0mself\u001b[0m\u001b[1;33m,\u001b[0m \u001b[0mxpath\u001b[0m\u001b[1;33m)\u001b[0m\u001b[1;33m:\u001b[0m\u001b[1;33m\u001b[0m\u001b[1;33m\u001b[0m\u001b[0m\n",
      "\u001b[1;32m~\\anaconda3\\lib\\site-packages\\selenium\\webdriver\\remote\\webdriver.py\u001b[0m in \u001b[0;36mfind_element\u001b[1;34m(self, by, value)\u001b[0m\n\u001b[0;32m    976\u001b[0m         return self.execute(Command.FIND_ELEMENT, {\n\u001b[0;32m    977\u001b[0m             \u001b[1;34m'using'\u001b[0m\u001b[1;33m:\u001b[0m \u001b[0mby\u001b[0m\u001b[1;33m,\u001b[0m\u001b[1;33m\u001b[0m\u001b[1;33m\u001b[0m\u001b[0m\n\u001b[1;32m--> 978\u001b[1;33m             'value': value})['value']\n\u001b[0m\u001b[0;32m    979\u001b[0m \u001b[1;33m\u001b[0m\u001b[0m\n\u001b[0;32m    980\u001b[0m     \u001b[1;32mdef\u001b[0m \u001b[0mfind_elements\u001b[0m\u001b[1;33m(\u001b[0m\u001b[0mself\u001b[0m\u001b[1;33m,\u001b[0m \u001b[0mby\u001b[0m\u001b[1;33m=\u001b[0m\u001b[0mBy\u001b[0m\u001b[1;33m.\u001b[0m\u001b[0mID\u001b[0m\u001b[1;33m,\u001b[0m \u001b[0mvalue\u001b[0m\u001b[1;33m=\u001b[0m\u001b[1;32mNone\u001b[0m\u001b[1;33m)\u001b[0m\u001b[1;33m:\u001b[0m\u001b[1;33m\u001b[0m\u001b[1;33m\u001b[0m\u001b[0m\n",
      "\u001b[1;32m~\\anaconda3\\lib\\site-packages\\selenium\\webdriver\\remote\\webdriver.py\u001b[0m in \u001b[0;36mexecute\u001b[1;34m(self, driver_command, params)\u001b[0m\n\u001b[0;32m    319\u001b[0m         \u001b[0mresponse\u001b[0m \u001b[1;33m=\u001b[0m \u001b[0mself\u001b[0m\u001b[1;33m.\u001b[0m\u001b[0mcommand_executor\u001b[0m\u001b[1;33m.\u001b[0m\u001b[0mexecute\u001b[0m\u001b[1;33m(\u001b[0m\u001b[0mdriver_command\u001b[0m\u001b[1;33m,\u001b[0m \u001b[0mparams\u001b[0m\u001b[1;33m)\u001b[0m\u001b[1;33m\u001b[0m\u001b[1;33m\u001b[0m\u001b[0m\n\u001b[0;32m    320\u001b[0m         \u001b[1;32mif\u001b[0m \u001b[0mresponse\u001b[0m\u001b[1;33m:\u001b[0m\u001b[1;33m\u001b[0m\u001b[1;33m\u001b[0m\u001b[0m\n\u001b[1;32m--> 321\u001b[1;33m             \u001b[0mself\u001b[0m\u001b[1;33m.\u001b[0m\u001b[0merror_handler\u001b[0m\u001b[1;33m.\u001b[0m\u001b[0mcheck_response\u001b[0m\u001b[1;33m(\u001b[0m\u001b[0mresponse\u001b[0m\u001b[1;33m)\u001b[0m\u001b[1;33m\u001b[0m\u001b[1;33m\u001b[0m\u001b[0m\n\u001b[0m\u001b[0;32m    322\u001b[0m             response['value'] = self._unwrap_value(\n\u001b[0;32m    323\u001b[0m                 response.get('value', None))\n",
      "\u001b[1;32m~\\anaconda3\\lib\\site-packages\\selenium\\webdriver\\remote\\errorhandler.py\u001b[0m in \u001b[0;36mcheck_response\u001b[1;34m(self, response)\u001b[0m\n\u001b[0;32m    240\u001b[0m                 \u001b[0malert_text\u001b[0m \u001b[1;33m=\u001b[0m \u001b[0mvalue\u001b[0m\u001b[1;33m[\u001b[0m\u001b[1;34m'alert'\u001b[0m\u001b[1;33m]\u001b[0m\u001b[1;33m.\u001b[0m\u001b[0mget\u001b[0m\u001b[1;33m(\u001b[0m\u001b[1;34m'text'\u001b[0m\u001b[1;33m)\u001b[0m\u001b[1;33m\u001b[0m\u001b[1;33m\u001b[0m\u001b[0m\n\u001b[0;32m    241\u001b[0m             \u001b[1;32mraise\u001b[0m \u001b[0mexception_class\u001b[0m\u001b[1;33m(\u001b[0m\u001b[0mmessage\u001b[0m\u001b[1;33m,\u001b[0m \u001b[0mscreen\u001b[0m\u001b[1;33m,\u001b[0m \u001b[0mstacktrace\u001b[0m\u001b[1;33m,\u001b[0m \u001b[0malert_text\u001b[0m\u001b[1;33m)\u001b[0m\u001b[1;33m\u001b[0m\u001b[1;33m\u001b[0m\u001b[0m\n\u001b[1;32m--> 242\u001b[1;33m         \u001b[1;32mraise\u001b[0m \u001b[0mexception_class\u001b[0m\u001b[1;33m(\u001b[0m\u001b[0mmessage\u001b[0m\u001b[1;33m,\u001b[0m \u001b[0mscreen\u001b[0m\u001b[1;33m,\u001b[0m \u001b[0mstacktrace\u001b[0m\u001b[1;33m)\u001b[0m\u001b[1;33m\u001b[0m\u001b[1;33m\u001b[0m\u001b[0m\n\u001b[0m\u001b[0;32m    243\u001b[0m \u001b[1;33m\u001b[0m\u001b[0m\n\u001b[0;32m    244\u001b[0m     \u001b[1;32mdef\u001b[0m \u001b[0m_value_or_default\u001b[0m\u001b[1;33m(\u001b[0m\u001b[0mself\u001b[0m\u001b[1;33m,\u001b[0m \u001b[0mobj\u001b[0m\u001b[1;33m,\u001b[0m \u001b[0mkey\u001b[0m\u001b[1;33m,\u001b[0m \u001b[0mdefault\u001b[0m\u001b[1;33m)\u001b[0m\u001b[1;33m:\u001b[0m\u001b[1;33m\u001b[0m\u001b[1;33m\u001b[0m\u001b[0m\n",
      "\u001b[1;31mNoSuchElementException\u001b[0m: Message: no such element: Unable to locate element: {\"method\":\"xpath\",\"selector\":\"//div[@class ='L0Z3Pu']/button\"}\n  (Session info: chrome=89.0.4389.114)\n"
     ]
    }
   ],
   "source": [
    "search_btn = driver.find_element_by_xpath(\"//div[@class ='L0Z3Pu']/button\")\n",
    "search_btn.click()"
   ]
  },
  {
   "cell_type": "code",
   "execution_count": 7,
   "metadata": {},
   "outputs": [],
   "source": [
    "url = \"https://www.flipkart.com/search?q=Sunglasses&otracker=search&otracker1=search&marketplace=FLIPKART&as-show=on&as=off\""
   ]
  },
  {
   "cell_type": "code",
   "execution_count": 8,
   "metadata": {},
   "outputs": [],
   "source": [
    "# lets open the page through web driver\n",
    "driver.get(url)"
   ]
  },
  {
   "cell_type": "code",
   "execution_count": 10,
   "metadata": {},
   "outputs": [],
   "source": [
    "brand = []\n",
    "product_description = []\n",
    "price = []\n",
    "discount = []"
   ]
  },
  {
   "cell_type": "code",
   "execution_count": 11,
   "metadata": {},
   "outputs": [
    {
     "data": {
      "text/plain": [
       "[<selenium.webdriver.remote.webelement.WebElement (session=\"9e00f50bac0cf09ae70c2671c45cae98\", element=\"b2c34d40-2a2e-45f5-8ec3-56e8b0607ec2\")>,\n",
       " <selenium.webdriver.remote.webelement.WebElement (session=\"9e00f50bac0cf09ae70c2671c45cae98\", element=\"b5ce76a6-ce27-4366-8407-31c5a0145aea\")>,\n",
       " <selenium.webdriver.remote.webelement.WebElement (session=\"9e00f50bac0cf09ae70c2671c45cae98\", element=\"06e75091-178d-4e50-b9e0-9f4ccde323f5\")>,\n",
       " <selenium.webdriver.remote.webelement.WebElement (session=\"9e00f50bac0cf09ae70c2671c45cae98\", element=\"1bf49960-cedc-4faa-a291-197a80ef355c\")>,\n",
       " <selenium.webdriver.remote.webelement.WebElement (session=\"9e00f50bac0cf09ae70c2671c45cae98\", element=\"2064df92-6dcc-46a8-a74f-df95a37dd84f\")>,\n",
       " <selenium.webdriver.remote.webelement.WebElement (session=\"9e00f50bac0cf09ae70c2671c45cae98\", element=\"25657b57-dd97-43c0-8d01-fc94dd9873a8\")>,\n",
       " <selenium.webdriver.remote.webelement.WebElement (session=\"9e00f50bac0cf09ae70c2671c45cae98\", element=\"0c3db1f9-6df3-4b67-93c8-ef5920b2051a\")>,\n",
       " <selenium.webdriver.remote.webelement.WebElement (session=\"9e00f50bac0cf09ae70c2671c45cae98\", element=\"5480e184-1e45-45bc-ac5e-e5f57d086d53\")>,\n",
       " <selenium.webdriver.remote.webelement.WebElement (session=\"9e00f50bac0cf09ae70c2671c45cae98\", element=\"59ead37f-ce66-4ea5-bb65-cc3a8c840221\")>,\n",
       " <selenium.webdriver.remote.webelement.WebElement (session=\"9e00f50bac0cf09ae70c2671c45cae98\", element=\"6adddb9c-e363-403b-9c51-64d45d28db94\")>]"
      ]
     },
     "execution_count": 11,
     "metadata": {},
     "output_type": "execute_result"
    }
   ],
   "source": [
    "#lets extract brands\n",
    "brands_tags = driver.find_elements_by_xpath (\"//div[@class = '_2WkVRV']\")\n",
    "brands_tags [0:10]"
   ]
  },
  {
   "cell_type": "code",
   "execution_count": 12,
   "metadata": {},
   "outputs": [
    {
     "data": {
      "text/plain": [
       "['Aislin',\n",
       " 'Silver Kartz',\n",
       " 'Fastrack',\n",
       " 'PIRASO',\n",
       " 'Fastrack',\n",
       " 'Fastrack',\n",
       " 'PIRASO',\n",
       " 'Silver Kartz',\n",
       " 'ROZZETTA CRAFT',\n",
       " 'Fastrack']"
      ]
     },
     "execution_count": 12,
     "metadata": {},
     "output_type": "execute_result"
    }
   ],
   "source": [
    "for i in  brands_tags:\n",
    "    brands = i.text\n",
    "    brand.append(brands)\n",
    "brand [0:10]"
   ]
  },
  {
   "cell_type": "code",
   "execution_count": 13,
   "metadata": {},
   "outputs": [
    {
     "data": {
      "text/plain": [
       "[<selenium.webdriver.remote.webelement.WebElement (session=\"9e00f50bac0cf09ae70c2671c45cae98\", element=\"d854c873-fcfe-477b-ad29-674d11d107ce\")>,\n",
       " <selenium.webdriver.remote.webelement.WebElement (session=\"9e00f50bac0cf09ae70c2671c45cae98\", element=\"c41f9914-34b2-47de-ac97-47fe545fe8fe\")>,\n",
       " <selenium.webdriver.remote.webelement.WebElement (session=\"9e00f50bac0cf09ae70c2671c45cae98\", element=\"af0dc979-fae3-4b8b-b123-74f4d3631f28\")>,\n",
       " <selenium.webdriver.remote.webelement.WebElement (session=\"9e00f50bac0cf09ae70c2671c45cae98\", element=\"456adbcd-fdec-4e14-8618-8472850068bd\")>,\n",
       " <selenium.webdriver.remote.webelement.WebElement (session=\"9e00f50bac0cf09ae70c2671c45cae98\", element=\"f25208fa-e48c-4b19-8188-37039208b5fb\")>,\n",
       " <selenium.webdriver.remote.webelement.WebElement (session=\"9e00f50bac0cf09ae70c2671c45cae98\", element=\"00b0369b-b6da-4696-92dc-4285181090a2\")>,\n",
       " <selenium.webdriver.remote.webelement.WebElement (session=\"9e00f50bac0cf09ae70c2671c45cae98\", element=\"ece815ed-030b-40ff-b85b-ec6c9177c59c\")>,\n",
       " <selenium.webdriver.remote.webelement.WebElement (session=\"9e00f50bac0cf09ae70c2671c45cae98\", element=\"b6de9d5d-871f-4b14-bafe-d658f199bdd9\")>,\n",
       " <selenium.webdriver.remote.webelement.WebElement (session=\"9e00f50bac0cf09ae70c2671c45cae98\", element=\"4b09524c-b811-4a55-8046-c3526312482d\")>,\n",
       " <selenium.webdriver.remote.webelement.WebElement (session=\"9e00f50bac0cf09ae70c2671c45cae98\", element=\"65f9d216-158a-4738-b502-450642a95da2\")>]"
      ]
     },
     "execution_count": 13,
     "metadata": {},
     "output_type": "execute_result"
    }
   ],
   "source": [
    "#lets extract product description\n",
    "description_tags = driver.find_elements_by_xpath (\"//a[@class = 'IRpwTa']\")\n",
    "description_tags [0:10]"
   ]
  },
  {
   "cell_type": "code",
   "execution_count": 14,
   "metadata": {},
   "outputs": [
    {
     "data": {
      "text/plain": [
       "['UV Protection, Gradient Cat-eye Sunglasses (58)',\n",
       " 'UV Protection Aviator Sunglasses (88)',\n",
       " 'UV Protection Wayfarer Sunglasses (Free Size)',\n",
       " 'UV Protection Aviator Sunglasses (54)',\n",
       " 'Mirrored, UV Protection Wayfarer Sunglasses (Free Size)',\n",
       " 'UV Protection Rectangular Sunglasses (Free Size)',\n",
       " 'UV Protection Aviator Sunglasses (Free Size)',\n",
       " 'UV Protection Wayfarer Sunglasses (Free Size)',\n",
       " 'UV Protection Retro Square Sunglasses (Free Size)',\n",
       " 'UV Protection Wayfarer Sunglasses (Free Size)']"
      ]
     },
     "execution_count": 14,
     "metadata": {},
     "output_type": "execute_result"
    }
   ],
   "source": [
    "for i in  description_tags:\n",
    "    description = i.text\n",
    "    product_description.append(description)\n",
    "product_description [0:10]"
   ]
  },
  {
   "cell_type": "code",
   "execution_count": 15,
   "metadata": {},
   "outputs": [
    {
     "data": {
      "text/plain": [
       "[<selenium.webdriver.remote.webelement.WebElement (session=\"9e00f50bac0cf09ae70c2671c45cae98\", element=\"9ff91e12-8321-4f93-8a00-1f76e98dd840\")>,\n",
       " <selenium.webdriver.remote.webelement.WebElement (session=\"9e00f50bac0cf09ae70c2671c45cae98\", element=\"a680b76f-e537-497d-aebe-fc9422f9319f\")>,\n",
       " <selenium.webdriver.remote.webelement.WebElement (session=\"9e00f50bac0cf09ae70c2671c45cae98\", element=\"0dfc8d63-b3e4-4e58-93bb-0fa5b0485ed6\")>,\n",
       " <selenium.webdriver.remote.webelement.WebElement (session=\"9e00f50bac0cf09ae70c2671c45cae98\", element=\"1bf6e0ac-8687-4630-86c4-a83db29d33e8\")>,\n",
       " <selenium.webdriver.remote.webelement.WebElement (session=\"9e00f50bac0cf09ae70c2671c45cae98\", element=\"d3364991-41fc-433b-98f6-834e111a45f8\")>,\n",
       " <selenium.webdriver.remote.webelement.WebElement (session=\"9e00f50bac0cf09ae70c2671c45cae98\", element=\"6feb131d-2643-4061-8a13-749583cc6309\")>,\n",
       " <selenium.webdriver.remote.webelement.WebElement (session=\"9e00f50bac0cf09ae70c2671c45cae98\", element=\"ae7dfc16-cb24-4749-bc6e-b0455655878f\")>,\n",
       " <selenium.webdriver.remote.webelement.WebElement (session=\"9e00f50bac0cf09ae70c2671c45cae98\", element=\"980b6f9d-06bb-43a2-ba70-92707c724996\")>,\n",
       " <selenium.webdriver.remote.webelement.WebElement (session=\"9e00f50bac0cf09ae70c2671c45cae98\", element=\"f3c5d00d-c853-45c8-83b1-c48d3c12af31\")>,\n",
       " <selenium.webdriver.remote.webelement.WebElement (session=\"9e00f50bac0cf09ae70c2671c45cae98\", element=\"6092b43a-0c40-4b13-a92d-4b4b86ddfef0\")>]"
      ]
     },
     "execution_count": 15,
     "metadata": {},
     "output_type": "execute_result"
    }
   ],
   "source": [
    "#lets extract price\n",
    "price_tags = driver.find_elements_by_xpath (\"//div[@class = '_30jeq3']\")\n",
    "price_tags [0:10]"
   ]
  },
  {
   "cell_type": "code",
   "execution_count": 16,
   "metadata": {},
   "outputs": [
    {
     "data": {
      "text/plain": [
       "['₹459',\n",
       " '₹201',\n",
       " '₹683',\n",
       " '₹187',\n",
       " '₹469',\n",
       " '₹570',\n",
       " '₹296',\n",
       " '₹233',\n",
       " '₹499',\n",
       " '₹685']"
      ]
     },
     "execution_count": 16,
     "metadata": {},
     "output_type": "execute_result"
    }
   ],
   "source": [
    "for i in  price_tags:\n",
    "    prices = i.text\n",
    "    price.append(prices)\n",
    "price [0:10]"
   ]
  },
  {
   "cell_type": "code",
   "execution_count": 17,
   "metadata": {},
   "outputs": [
    {
     "data": {
      "text/plain": [
       "[<selenium.webdriver.remote.webelement.WebElement (session=\"9e00f50bac0cf09ae70c2671c45cae98\", element=\"49615385-b35f-43b1-aa22-25566a03c794\")>,\n",
       " <selenium.webdriver.remote.webelement.WebElement (session=\"9e00f50bac0cf09ae70c2671c45cae98\", element=\"4dce2396-6801-4087-b202-ee6ab6878058\")>,\n",
       " <selenium.webdriver.remote.webelement.WebElement (session=\"9e00f50bac0cf09ae70c2671c45cae98\", element=\"fc46915c-a8ea-4a4d-adfd-b21e4d9bb945\")>,\n",
       " <selenium.webdriver.remote.webelement.WebElement (session=\"9e00f50bac0cf09ae70c2671c45cae98\", element=\"356424f2-a8fe-49ce-a97f-8254bbba2171\")>,\n",
       " <selenium.webdriver.remote.webelement.WebElement (session=\"9e00f50bac0cf09ae70c2671c45cae98\", element=\"8f600678-0fcb-4171-b548-cbbe6aea2398\")>,\n",
       " <selenium.webdriver.remote.webelement.WebElement (session=\"9e00f50bac0cf09ae70c2671c45cae98\", element=\"5a9268fc-a88f-47a8-99d7-2ac9c1661c0e\")>,\n",
       " <selenium.webdriver.remote.webelement.WebElement (session=\"9e00f50bac0cf09ae70c2671c45cae98\", element=\"3da636ed-c7e2-43ea-bf8e-a36779e11928\")>,\n",
       " <selenium.webdriver.remote.webelement.WebElement (session=\"9e00f50bac0cf09ae70c2671c45cae98\", element=\"e5d27993-5de1-4a6e-b33c-24700c9be300\")>,\n",
       " <selenium.webdriver.remote.webelement.WebElement (session=\"9e00f50bac0cf09ae70c2671c45cae98\", element=\"a4b73e54-0fe6-41b3-9aef-86d86596a010\")>,\n",
       " <selenium.webdriver.remote.webelement.WebElement (session=\"9e00f50bac0cf09ae70c2671c45cae98\", element=\"e2eb81a6-09ab-41d9-acfe-15658276bec2\")>]"
      ]
     },
     "execution_count": 17,
     "metadata": {},
     "output_type": "execute_result"
    }
   ],
   "source": [
    "#lets extract discount %\n",
    "discount_tags = driver.find_elements_by_xpath (\"//div[@class = '_3Ay6Sb']/span\")\n",
    "discount_tags [0:10]"
   ]
  },
  {
   "cell_type": "code",
   "execution_count": 19,
   "metadata": {},
   "outputs": [
    {
     "data": {
      "text/plain": [
       "['69% off',\n",
       " '83% off',\n",
       " '24% off',\n",
       " '88% off',\n",
       " '53% off',\n",
       " '28% off',\n",
       " '81% off',\n",
       " '84% off',\n",
       " '77% off',\n",
       " '23% off']"
      ]
     },
     "execution_count": 19,
     "metadata": {},
     "output_type": "execute_result"
    }
   ],
   "source": [
    "for i in  discount_tags:\n",
    "    discounts = i.text\n",
    "    discount.append(discounts)\n",
    "discount [0:10]"
   ]
  },
  {
   "cell_type": "code",
   "execution_count": 20,
   "metadata": {},
   "outputs": [
    {
     "name": "stdout",
     "output_type": "stream",
     "text": [
      "40 40 40 40\n"
     ]
    }
   ],
   "source": [
    "print (len (brand),len (product_description),len (price),len (discount))"
   ]
  },
  {
   "cell_type": "code",
   "execution_count": 21,
   "metadata": {},
   "outputs": [],
   "source": [
    "#importing pandas\n",
    "products = pd.DataFrame ({})\n",
    "products ['BRAND'] = brand\n",
    "products ['DESCRIPTION'] = product_description\n",
    "products ['PRICE'] = price\n",
    "products ['DISCOUNT'] = discount"
   ]
  },
  {
   "cell_type": "code",
   "execution_count": 22,
   "metadata": {},
   "outputs": [
    {
     "data": {
      "text/html": [
       "<div>\n",
       "<style scoped>\n",
       "    .dataframe tbody tr th:only-of-type {\n",
       "        vertical-align: middle;\n",
       "    }\n",
       "\n",
       "    .dataframe tbody tr th {\n",
       "        vertical-align: top;\n",
       "    }\n",
       "\n",
       "    .dataframe thead th {\n",
       "        text-align: right;\n",
       "    }\n",
       "</style>\n",
       "<table border=\"1\" class=\"dataframe\">\n",
       "  <thead>\n",
       "    <tr style=\"text-align: right;\">\n",
       "      <th></th>\n",
       "      <th>BRAND</th>\n",
       "      <th>DESCRIPTION</th>\n",
       "      <th>PRICE</th>\n",
       "      <th>DISCOUNT</th>\n",
       "    </tr>\n",
       "  </thead>\n",
       "  <tbody>\n",
       "    <tr>\n",
       "      <th>0</th>\n",
       "      <td>Aislin</td>\n",
       "      <td>UV Protection, Gradient Cat-eye Sunglasses (58)</td>\n",
       "      <td>₹459</td>\n",
       "      <td>69% off</td>\n",
       "    </tr>\n",
       "    <tr>\n",
       "      <th>1</th>\n",
       "      <td>Silver Kartz</td>\n",
       "      <td>UV Protection Aviator Sunglasses (88)</td>\n",
       "      <td>₹201</td>\n",
       "      <td>83% off</td>\n",
       "    </tr>\n",
       "    <tr>\n",
       "      <th>2</th>\n",
       "      <td>Fastrack</td>\n",
       "      <td>UV Protection Wayfarer Sunglasses (Free Size)</td>\n",
       "      <td>₹683</td>\n",
       "      <td>24% off</td>\n",
       "    </tr>\n",
       "    <tr>\n",
       "      <th>3</th>\n",
       "      <td>PIRASO</td>\n",
       "      <td>UV Protection Aviator Sunglasses (54)</td>\n",
       "      <td>₹187</td>\n",
       "      <td>88% off</td>\n",
       "    </tr>\n",
       "    <tr>\n",
       "      <th>4</th>\n",
       "      <td>Fastrack</td>\n",
       "      <td>Mirrored, UV Protection Wayfarer Sunglasses (F...</td>\n",
       "      <td>₹469</td>\n",
       "      <td>53% off</td>\n",
       "    </tr>\n",
       "    <tr>\n",
       "      <th>5</th>\n",
       "      <td>Fastrack</td>\n",
       "      <td>UV Protection Rectangular Sunglasses (Free Size)</td>\n",
       "      <td>₹570</td>\n",
       "      <td>28% off</td>\n",
       "    </tr>\n",
       "    <tr>\n",
       "      <th>6</th>\n",
       "      <td>PIRASO</td>\n",
       "      <td>UV Protection Aviator Sunglasses (Free Size)</td>\n",
       "      <td>₹296</td>\n",
       "      <td>81% off</td>\n",
       "    </tr>\n",
       "    <tr>\n",
       "      <th>7</th>\n",
       "      <td>Silver Kartz</td>\n",
       "      <td>UV Protection Wayfarer Sunglasses (Free Size)</td>\n",
       "      <td>₹233</td>\n",
       "      <td>84% off</td>\n",
       "    </tr>\n",
       "    <tr>\n",
       "      <th>8</th>\n",
       "      <td>ROZZETTA CRAFT</td>\n",
       "      <td>UV Protection Retro Square Sunglasses (Free Size)</td>\n",
       "      <td>₹499</td>\n",
       "      <td>77% off</td>\n",
       "    </tr>\n",
       "    <tr>\n",
       "      <th>9</th>\n",
       "      <td>Fastrack</td>\n",
       "      <td>UV Protection Wayfarer Sunglasses (Free Size)</td>\n",
       "      <td>₹685</td>\n",
       "      <td>23% off</td>\n",
       "    </tr>\n",
       "    <tr>\n",
       "      <th>10</th>\n",
       "      <td>ROZZETTA CRAFT</td>\n",
       "      <td>UV Protection, Gradient Rectangular Sunglasses...</td>\n",
       "      <td>₹404</td>\n",
       "      <td>79% off</td>\n",
       "    </tr>\n",
       "    <tr>\n",
       "      <th>11</th>\n",
       "      <td>Fastrack</td>\n",
       "      <td>Gradient, UV Protection Wayfarer Sunglasses (F...</td>\n",
       "      <td>₹609</td>\n",
       "      <td>23% off</td>\n",
       "    </tr>\n",
       "    <tr>\n",
       "      <th>12</th>\n",
       "      <td>phenomenal</td>\n",
       "      <td>UV Protection Retro Square Sunglasses (Free Size)</td>\n",
       "      <td>₹399</td>\n",
       "      <td>80% off</td>\n",
       "    </tr>\n",
       "    <tr>\n",
       "      <th>13</th>\n",
       "      <td>ROYAL SON</td>\n",
       "      <td>UV Protection Wayfarer Sunglasses (55)</td>\n",
       "      <td>₹265</td>\n",
       "      <td>79% off</td>\n",
       "    </tr>\n",
       "    <tr>\n",
       "      <th>14</th>\n",
       "      <td>phenomenal</td>\n",
       "      <td>UV Protection, Mirrored Retro Square Sunglasse...</td>\n",
       "      <td>₹399</td>\n",
       "      <td>80% off</td>\n",
       "    </tr>\n",
       "    <tr>\n",
       "      <th>15</th>\n",
       "      <td>Singco India</td>\n",
       "      <td>UV Protection, Polarized Aviator Sunglasses (F...</td>\n",
       "      <td>₹202</td>\n",
       "      <td>71% off</td>\n",
       "    </tr>\n",
       "    <tr>\n",
       "      <th>16</th>\n",
       "      <td>PIRASO</td>\n",
       "      <td>UV Protection Aviator Sunglasses (54)</td>\n",
       "      <td>₹212</td>\n",
       "      <td>86% off</td>\n",
       "    </tr>\n",
       "    <tr>\n",
       "      <th>17</th>\n",
       "      <td>Singco India</td>\n",
       "      <td>UV Protection Round Sunglasses (Free Size)</td>\n",
       "      <td>₹195</td>\n",
       "      <td>80% off</td>\n",
       "    </tr>\n",
       "    <tr>\n",
       "      <th>18</th>\n",
       "      <td>NuVew</td>\n",
       "      <td>UV Protection Aviator Sunglasses (57)</td>\n",
       "      <td>₹183</td>\n",
       "      <td>76% off</td>\n",
       "    </tr>\n",
       "    <tr>\n",
       "      <th>19</th>\n",
       "      <td>Dannilo</td>\n",
       "      <td>Others Round Sunglasses (Free Size)</td>\n",
       "      <td>₹232</td>\n",
       "      <td>76% off</td>\n",
       "    </tr>\n",
       "    <tr>\n",
       "      <th>20</th>\n",
       "      <td>Fastrack</td>\n",
       "      <td>UV Protection Aviator Sunglasses (58)</td>\n",
       "      <td>₹987</td>\n",
       "      <td>24% off</td>\n",
       "    </tr>\n",
       "    <tr>\n",
       "      <th>21</th>\n",
       "      <td>Fastrack</td>\n",
       "      <td>UV Protection Aviator Sunglasses (58)</td>\n",
       "      <td>₹951</td>\n",
       "      <td>26% off</td>\n",
       "    </tr>\n",
       "    <tr>\n",
       "      <th>22</th>\n",
       "      <td>HIPPON</td>\n",
       "      <td>UV Protection Wayfarer Sunglasses (55)</td>\n",
       "      <td>₹251</td>\n",
       "      <td>79% off</td>\n",
       "    </tr>\n",
       "    <tr>\n",
       "      <th>23</th>\n",
       "      <td>ROYAL SON</td>\n",
       "      <td>Polarized Retro Square Sunglasses (58)</td>\n",
       "      <td>₹899</td>\n",
       "      <td>55% off</td>\n",
       "    </tr>\n",
       "    <tr>\n",
       "      <th>24</th>\n",
       "      <td>Fastrack</td>\n",
       "      <td>UV Protection Wayfarer Sunglasses (56)</td>\n",
       "      <td>₹685</td>\n",
       "      <td>23% off</td>\n",
       "    </tr>\n",
       "    <tr>\n",
       "      <th>25</th>\n",
       "      <td>ROZZETTA CRAFT</td>\n",
       "      <td>UV Protection, Riding Glasses Rectangular Sung...</td>\n",
       "      <td>₹426</td>\n",
       "      <td>80% off</td>\n",
       "    </tr>\n",
       "    <tr>\n",
       "      <th>26</th>\n",
       "      <td>Fastrack</td>\n",
       "      <td>UV Protection Aviator Sunglasses (58)</td>\n",
       "      <td>₹990</td>\n",
       "      <td>23% off</td>\n",
       "    </tr>\n",
       "    <tr>\n",
       "      <th>27</th>\n",
       "      <td>Fastrack</td>\n",
       "      <td>Gradient, UV Protection Wayfarer Sunglasses (F...</td>\n",
       "      <td>₹609</td>\n",
       "      <td>23% off</td>\n",
       "    </tr>\n",
       "    <tr>\n",
       "      <th>28</th>\n",
       "      <td>PIRASO</td>\n",
       "      <td>UV Protection Wayfarer Sunglasses (32)</td>\n",
       "      <td>₹212</td>\n",
       "      <td>86% off</td>\n",
       "    </tr>\n",
       "    <tr>\n",
       "      <th>29</th>\n",
       "      <td>ROZZETTA CRAFT</td>\n",
       "      <td>UV Protection, Gradient Rectangular Sunglasses...</td>\n",
       "      <td>₹404</td>\n",
       "      <td>79% off</td>\n",
       "    </tr>\n",
       "    <tr>\n",
       "      <th>30</th>\n",
       "      <td>Fastrack</td>\n",
       "      <td>UV Protection Shield Sunglasses (Free Size)</td>\n",
       "      <td>₹685</td>\n",
       "      <td>23% off</td>\n",
       "    </tr>\n",
       "    <tr>\n",
       "      <th>31</th>\n",
       "      <td>DEIXELS</td>\n",
       "      <td>UV Protection Round Sunglasses (Free Size)</td>\n",
       "      <td>₹189</td>\n",
       "      <td>76% off</td>\n",
       "    </tr>\n",
       "    <tr>\n",
       "      <th>32</th>\n",
       "      <td>Fastrack</td>\n",
       "      <td>UV Protection Wayfarer Sunglasses (Free Size)</td>\n",
       "      <td>₹684</td>\n",
       "      <td>23% off</td>\n",
       "    </tr>\n",
       "    <tr>\n",
       "      <th>33</th>\n",
       "      <td>HAMIW COLLECTION</td>\n",
       "      <td>UV Protection Wayfarer, Sports, Shield, Rectan...</td>\n",
       "      <td>₹209</td>\n",
       "      <td>86% off</td>\n",
       "    </tr>\n",
       "    <tr>\n",
       "      <th>34</th>\n",
       "      <td>Fastrack</td>\n",
       "      <td>UV Protection Round Sunglasses (Free Size)</td>\n",
       "      <td>₹960</td>\n",
       "      <td>3% off</td>\n",
       "    </tr>\n",
       "    <tr>\n",
       "      <th>35</th>\n",
       "      <td>phenomenal</td>\n",
       "      <td>UV Protection, Mirrored Clubmaster Sunglasses ...</td>\n",
       "      <td>₹299</td>\n",
       "      <td>85% off</td>\n",
       "    </tr>\n",
       "    <tr>\n",
       "      <th>36</th>\n",
       "      <td>PIRASO</td>\n",
       "      <td>UV Protection Aviator Sunglasses (54)</td>\n",
       "      <td>₹212</td>\n",
       "      <td>86% off</td>\n",
       "    </tr>\n",
       "    <tr>\n",
       "      <th>37</th>\n",
       "      <td>Singco India</td>\n",
       "      <td>UV Protection Aviator Sunglasses (Free Size)</td>\n",
       "      <td>₹329</td>\n",
       "      <td>72% off</td>\n",
       "    </tr>\n",
       "    <tr>\n",
       "      <th>38</th>\n",
       "      <td>DEIXELS</td>\n",
       "      <td>UV Protection Wayfarer Sunglasses (Free Size)</td>\n",
       "      <td>₹200</td>\n",
       "      <td>59% off</td>\n",
       "    </tr>\n",
       "    <tr>\n",
       "      <th>39</th>\n",
       "      <td>NuVew</td>\n",
       "      <td>UV Protection, Gradient Cat-eye Sunglasses (63)</td>\n",
       "      <td>₹296</td>\n",
       "      <td>80% off</td>\n",
       "    </tr>\n",
       "  </tbody>\n",
       "</table>\n",
       "</div>"
      ],
      "text/plain": [
       "               BRAND                                        DESCRIPTION PRICE  \\\n",
       "0             Aislin    UV Protection, Gradient Cat-eye Sunglasses (58)  ₹459   \n",
       "1       Silver Kartz              UV Protection Aviator Sunglasses (88)  ₹201   \n",
       "2           Fastrack      UV Protection Wayfarer Sunglasses (Free Size)  ₹683   \n",
       "3             PIRASO              UV Protection Aviator Sunglasses (54)  ₹187   \n",
       "4           Fastrack  Mirrored, UV Protection Wayfarer Sunglasses (F...  ₹469   \n",
       "5           Fastrack   UV Protection Rectangular Sunglasses (Free Size)  ₹570   \n",
       "6             PIRASO       UV Protection Aviator Sunglasses (Free Size)  ₹296   \n",
       "7       Silver Kartz      UV Protection Wayfarer Sunglasses (Free Size)  ₹233   \n",
       "8     ROZZETTA CRAFT  UV Protection Retro Square Sunglasses (Free Size)  ₹499   \n",
       "9           Fastrack      UV Protection Wayfarer Sunglasses (Free Size)  ₹685   \n",
       "10    ROZZETTA CRAFT  UV Protection, Gradient Rectangular Sunglasses...  ₹404   \n",
       "11          Fastrack  Gradient, UV Protection Wayfarer Sunglasses (F...  ₹609   \n",
       "12        phenomenal  UV Protection Retro Square Sunglasses (Free Size)  ₹399   \n",
       "13         ROYAL SON             UV Protection Wayfarer Sunglasses (55)  ₹265   \n",
       "14        phenomenal  UV Protection, Mirrored Retro Square Sunglasse...  ₹399   \n",
       "15      Singco India  UV Protection, Polarized Aviator Sunglasses (F...  ₹202   \n",
       "16            PIRASO              UV Protection Aviator Sunglasses (54)  ₹212   \n",
       "17      Singco India         UV Protection Round Sunglasses (Free Size)  ₹195   \n",
       "18             NuVew              UV Protection Aviator Sunglasses (57)  ₹183   \n",
       "19           Dannilo                Others Round Sunglasses (Free Size)  ₹232   \n",
       "20          Fastrack              UV Protection Aviator Sunglasses (58)  ₹987   \n",
       "21          Fastrack              UV Protection Aviator Sunglasses (58)  ₹951   \n",
       "22            HIPPON             UV Protection Wayfarer Sunglasses (55)  ₹251   \n",
       "23         ROYAL SON             Polarized Retro Square Sunglasses (58)  ₹899   \n",
       "24          Fastrack             UV Protection Wayfarer Sunglasses (56)  ₹685   \n",
       "25    ROZZETTA CRAFT  UV Protection, Riding Glasses Rectangular Sung...  ₹426   \n",
       "26          Fastrack              UV Protection Aviator Sunglasses (58)  ₹990   \n",
       "27          Fastrack  Gradient, UV Protection Wayfarer Sunglasses (F...  ₹609   \n",
       "28            PIRASO             UV Protection Wayfarer Sunglasses (32)  ₹212   \n",
       "29    ROZZETTA CRAFT  UV Protection, Gradient Rectangular Sunglasses...  ₹404   \n",
       "30          Fastrack        UV Protection Shield Sunglasses (Free Size)  ₹685   \n",
       "31           DEIXELS         UV Protection Round Sunglasses (Free Size)  ₹189   \n",
       "32          Fastrack      UV Protection Wayfarer Sunglasses (Free Size)  ₹684   \n",
       "33  HAMIW COLLECTION  UV Protection Wayfarer, Sports, Shield, Rectan...  ₹209   \n",
       "34          Fastrack         UV Protection Round Sunglasses (Free Size)  ₹960   \n",
       "35        phenomenal  UV Protection, Mirrored Clubmaster Sunglasses ...  ₹299   \n",
       "36            PIRASO              UV Protection Aviator Sunglasses (54)  ₹212   \n",
       "37      Singco India       UV Protection Aviator Sunglasses (Free Size)  ₹329   \n",
       "38           DEIXELS      UV Protection Wayfarer Sunglasses (Free Size)  ₹200   \n",
       "39             NuVew    UV Protection, Gradient Cat-eye Sunglasses (63)  ₹296   \n",
       "\n",
       "   DISCOUNT  \n",
       "0   69% off  \n",
       "1   83% off  \n",
       "2   24% off  \n",
       "3   88% off  \n",
       "4   53% off  \n",
       "5   28% off  \n",
       "6   81% off  \n",
       "7   84% off  \n",
       "8   77% off  \n",
       "9   23% off  \n",
       "10  79% off  \n",
       "11  23% off  \n",
       "12  80% off  \n",
       "13  79% off  \n",
       "14  80% off  \n",
       "15  71% off  \n",
       "16  86% off  \n",
       "17  80% off  \n",
       "18  76% off  \n",
       "19  76% off  \n",
       "20  24% off  \n",
       "21  26% off  \n",
       "22  79% off  \n",
       "23  55% off  \n",
       "24  23% off  \n",
       "25  80% off  \n",
       "26  23% off  \n",
       "27  23% off  \n",
       "28  86% off  \n",
       "29  79% off  \n",
       "30  23% off  \n",
       "31  76% off  \n",
       "32  23% off  \n",
       "33  86% off  \n",
       "34   3% off  \n",
       "35  85% off  \n",
       "36  86% off  \n",
       "37  72% off  \n",
       "38  59% off  \n",
       "39  80% off  "
      ]
     },
     "execution_count": 22,
     "metadata": {},
     "output_type": "execute_result"
    }
   ],
   "source": [
    "products"
   ]
  },
  {
   "cell_type": "code",
   "execution_count": 23,
   "metadata": {},
   "outputs": [],
   "source": [
    "next_btn = driver.find_element_by_xpath(\"//a[@class ='_1LKTO3']/span\")\n",
    "next_btn.click()"
   ]
  },
  {
   "cell_type": "raw",
   "metadata": {},
   "source": [
    "Q7. Scrape 100 reviews data from flipkart.com for iphone11 phone. These are\n",
    "1. Rating\n",
    "2. Review_summary\n",
    "3. Full review"
   ]
  },
  {
   "cell_type": "code",
   "execution_count": 95,
   "metadata": {},
   "outputs": [],
   "source": [
    "#connecting to webdriver\n",
    "driver = webdriver.Chrome(r\"C://chromedriver.exe\")"
   ]
  },
  {
   "cell_type": "code",
   "execution_count": 96,
   "metadata": {},
   "outputs": [],
   "source": [
    "driver.get(\"https://www.flipkart.com/apple-iphone-11-black-64-gb-includes-earpods-power-adapter/product-reviews/itm0f37c2240b217?pid=MOBFKCTSVZAXUHGR&lid=LSTMOBFKCTSVZAXUHGREPBFGI&marketplace=FLIPKART\")"
   ]
  },
  {
   "cell_type": "code",
   "execution_count": 97,
   "metadata": {},
   "outputs": [],
   "source": [
    "url_iphone = \"https://www.flipkart.com/apple-iphone-11-black-64-gb-includes-earpods-power-adapter/product-reviews/itm0f37c2240b217?pid=MOBFKCTSVZAXUHGR&lid=LSTMOBFKCTSVZAXUHGREPBFGI&marketplace=FLIPKART\""
   ]
  },
  {
   "cell_type": "code",
   "execution_count": 55,
   "metadata": {},
   "outputs": [],
   "source": [
    "# lets open the page through web driver\n",
    "driver.get(url_iphone)"
   ]
  },
  {
   "cell_type": "code",
   "execution_count": 56,
   "metadata": {},
   "outputs": [],
   "source": [
    "rating = []\n",
    "review_summary = []\n",
    "full_review = []"
   ]
  },
  {
   "cell_type": "code",
   "execution_count": 57,
   "metadata": {},
   "outputs": [
    {
     "data": {
      "text/plain": [
       "[<selenium.webdriver.remote.webelement.WebElement (session=\"1dd123c8477d2cd73a5ca41a34a01154\", element=\"05f8a930-e1df-418b-a4a1-f5466372ea89\")>,\n",
       " <selenium.webdriver.remote.webelement.WebElement (session=\"1dd123c8477d2cd73a5ca41a34a01154\", element=\"e82aee64-6886-4d14-9463-1908d09f2428\")>,\n",
       " <selenium.webdriver.remote.webelement.WebElement (session=\"1dd123c8477d2cd73a5ca41a34a01154\", element=\"3b7398b9-8a14-4e7f-944c-594e2b2df46f\")>,\n",
       " <selenium.webdriver.remote.webelement.WebElement (session=\"1dd123c8477d2cd73a5ca41a34a01154\", element=\"7b22f632-33fe-45a7-a8a0-99f3c2fbf244\")>,\n",
       " <selenium.webdriver.remote.webelement.WebElement (session=\"1dd123c8477d2cd73a5ca41a34a01154\", element=\"4f378f31-2ed9-4b96-baee-fa709b9fc349\")>,\n",
       " <selenium.webdriver.remote.webelement.WebElement (session=\"1dd123c8477d2cd73a5ca41a34a01154\", element=\"58af29dd-472e-4baa-b3ab-8dccadaa26d1\")>,\n",
       " <selenium.webdriver.remote.webelement.WebElement (session=\"1dd123c8477d2cd73a5ca41a34a01154\", element=\"fc592b28-86ea-4070-ad9f-6f53a03c8264\")>,\n",
       " <selenium.webdriver.remote.webelement.WebElement (session=\"1dd123c8477d2cd73a5ca41a34a01154\", element=\"8b2bf86d-211d-402b-8f40-117bd08457c9\")>,\n",
       " <selenium.webdriver.remote.webelement.WebElement (session=\"1dd123c8477d2cd73a5ca41a34a01154\", element=\"d415049f-4b52-4fae-b399-8dd7a9fdcfad\")>,\n",
       " <selenium.webdriver.remote.webelement.WebElement (session=\"1dd123c8477d2cd73a5ca41a34a01154\", element=\"e23cefd4-fff7-4005-b4c9-26fd76c1fc23\")>]"
      ]
     },
     "execution_count": 57,
     "metadata": {},
     "output_type": "execute_result"
    }
   ],
   "source": [
    "#lets extract rating\n",
    "ratings_tags = driver.find_elements_by_xpath (\"//div[@class = '_3LWZlK _1BLPMq']\")\n",
    "ratings_tags [0:100]"
   ]
  },
  {
   "cell_type": "code",
   "execution_count": 58,
   "metadata": {},
   "outputs": [
    {
     "data": {
      "text/plain": [
       "['5', '5', '5', '5', '5', '5', '5', '5', '5', '5']"
      ]
     },
     "execution_count": 58,
     "metadata": {},
     "output_type": "execute_result"
    }
   ],
   "source": [
    "for i in  ratings_tags:\n",
    "    ratings = i.text\n",
    "    rating.append(ratings)\n",
    "rating [0:100]"
   ]
  },
  {
   "cell_type": "code",
   "execution_count": 59,
   "metadata": {},
   "outputs": [
    {
     "data": {
      "text/plain": [
       "[<selenium.webdriver.remote.webelement.WebElement (session=\"1dd123c8477d2cd73a5ca41a34a01154\", element=\"f732240f-e341-4b83-8810-afb7e8e0d172\")>,\n",
       " <selenium.webdriver.remote.webelement.WebElement (session=\"1dd123c8477d2cd73a5ca41a34a01154\", element=\"9d81dcaf-b06a-4a8d-a66e-e36eee94bbdb\")>,\n",
       " <selenium.webdriver.remote.webelement.WebElement (session=\"1dd123c8477d2cd73a5ca41a34a01154\", element=\"fccce5ea-5279-4ec1-ac14-3b7951c9b065\")>,\n",
       " <selenium.webdriver.remote.webelement.WebElement (session=\"1dd123c8477d2cd73a5ca41a34a01154\", element=\"159111c3-3582-4106-a691-ddfb50a5242b\")>,\n",
       " <selenium.webdriver.remote.webelement.WebElement (session=\"1dd123c8477d2cd73a5ca41a34a01154\", element=\"80f7e25c-9a69-494b-844d-ce0ac1fa7f60\")>,\n",
       " <selenium.webdriver.remote.webelement.WebElement (session=\"1dd123c8477d2cd73a5ca41a34a01154\", element=\"f71c76ec-0092-411b-bbe0-cab5b4b1568f\")>,\n",
       " <selenium.webdriver.remote.webelement.WebElement (session=\"1dd123c8477d2cd73a5ca41a34a01154\", element=\"205f727a-7b69-4ad7-bc45-4fdbb6a7fc57\")>,\n",
       " <selenium.webdriver.remote.webelement.WebElement (session=\"1dd123c8477d2cd73a5ca41a34a01154\", element=\"71d42a49-fadb-49ee-ac3a-1578f817ddcc\")>,\n",
       " <selenium.webdriver.remote.webelement.WebElement (session=\"1dd123c8477d2cd73a5ca41a34a01154\", element=\"0c6d8ca2-9d5f-442c-b84c-bef5e46997c3\")>,\n",
       " <selenium.webdriver.remote.webelement.WebElement (session=\"1dd123c8477d2cd73a5ca41a34a01154\", element=\"d97ec2b6-0a26-4613-b251-b24147144bde\")>]"
      ]
     },
     "execution_count": 59,
     "metadata": {},
     "output_type": "execute_result"
    }
   ],
   "source": [
    "#lets extract review summary\n",
    "summary_tags = driver.find_elements_by_xpath (\"//p[@class = '_2-N8zT']\")\n",
    "summary_tags [0:100]"
   ]
  },
  {
   "cell_type": "code",
   "execution_count": 60,
   "metadata": {},
   "outputs": [
    {
     "data": {
      "text/plain": [
       "['Brilliant',\n",
       " 'Perfect product!',\n",
       " 'Worth every penny',\n",
       " 'Great product',\n",
       " 'Highly recommended',\n",
       " 'Fabulous!',\n",
       " 'Perfect product!',\n",
       " 'Perfect product!',\n",
       " 'Wonderful',\n",
       " 'Worth every penny']"
      ]
     },
     "execution_count": 60,
     "metadata": {},
     "output_type": "execute_result"
    }
   ],
   "source": [
    "for i in summary_tags:\n",
    "    summary = i.text\n",
    "    review_summary.append(summary)\n",
    "review_summary [0:100]"
   ]
  },
  {
   "cell_type": "code",
   "execution_count": 61,
   "metadata": {},
   "outputs": [
    {
     "data": {
      "text/plain": [
       "[<selenium.webdriver.remote.webelement.WebElement (session=\"1dd123c8477d2cd73a5ca41a34a01154\", element=\"4b85090f-757a-421d-b9a2-9fc64fc0cc3e\")>,\n",
       " <selenium.webdriver.remote.webelement.WebElement (session=\"1dd123c8477d2cd73a5ca41a34a01154\", element=\"877ff248-8138-4a0f-822f-78760650fff8\")>,\n",
       " <selenium.webdriver.remote.webelement.WebElement (session=\"1dd123c8477d2cd73a5ca41a34a01154\", element=\"82011132-663c-4f04-a3cf-9a55235b0fd8\")>,\n",
       " <selenium.webdriver.remote.webelement.WebElement (session=\"1dd123c8477d2cd73a5ca41a34a01154\", element=\"4796039a-4d62-4e03-854d-bd96f5946561\")>,\n",
       " <selenium.webdriver.remote.webelement.WebElement (session=\"1dd123c8477d2cd73a5ca41a34a01154\", element=\"1db616c3-cb9c-4b9e-a35f-f8e57228b820\")>,\n",
       " <selenium.webdriver.remote.webelement.WebElement (session=\"1dd123c8477d2cd73a5ca41a34a01154\", element=\"9b8fbc18-b744-4723-9571-92799ded74bc\")>,\n",
       " <selenium.webdriver.remote.webelement.WebElement (session=\"1dd123c8477d2cd73a5ca41a34a01154\", element=\"79cfd451-7bcd-4d61-bfce-9d9403a1cd92\")>,\n",
       " <selenium.webdriver.remote.webelement.WebElement (session=\"1dd123c8477d2cd73a5ca41a34a01154\", element=\"9dd82ae1-6241-467c-a612-4b20eb87fb57\")>,\n",
       " <selenium.webdriver.remote.webelement.WebElement (session=\"1dd123c8477d2cd73a5ca41a34a01154\", element=\"803c2d82-f0e9-4eb0-af35-caf07fe139f2\")>,\n",
       " <selenium.webdriver.remote.webelement.WebElement (session=\"1dd123c8477d2cd73a5ca41a34a01154\", element=\"c8d591f5-895e-4b09-a30b-9f1c38f7e4dc\")>]"
      ]
     },
     "execution_count": 61,
     "metadata": {},
     "output_type": "execute_result"
    }
   ],
   "source": [
    "#lets extract full review\n",
    "reviews_tags = driver.find_elements_by_xpath (\"//div[@class = 't-ZTKy']\")\n",
    "reviews_tags [0:100]"
   ]
  },
  {
   "cell_type": "code",
   "execution_count": 62,
   "metadata": {},
   "outputs": [
    {
     "data": {
      "text/plain": [
       "['The Best Phone for the Money\\n\\nThe iPhone 11 offers superb cameras, a more durable design and excellent battery life for an affordable price.\\n\\nCompelling ultra-wide camera\\nNew Night mode is excellent\\nLong battery life',\n",
       " 'Amazing phone with great cameras and better battery which gives you the best performance. I just love the camera .',\n",
       " 'Previously I was using one plus 3t it was a great phone\\nAnd then I decided to upgrade I am stuck between Samsung s10 plus or iPhone 11\\nI have seen the specs and everything were good except the display it’s somewhere between 720-1080 and it’s not even an amoled it’s an LCD display\\nBut I decided to go with iPhone because I have never used an IOS device I have Been an android user from the past 9 years I ordered IPhone 11 (128gb) product red\\nMy experience after using 3 weeks\\n1. The delivery ...\\nREAD MORE',\n",
       " 'Amazing Powerful and Durable Gadget.\\n\\nI’m am very happy with the camera picture quality, Amazing face id unlocked in dark room, Strong battery with perfect screen size as you can carry easily in pocket. This is my third iPhone.\\n\\nI shifted from android Samsung Note series to iPhone because of the strong build quality and peace of mind for next 3-4 years.\\n\\nDon’t think to much just go for it and I suggest you to go for minimum 128gb variant or more 256gb.\\n\\nI’ve attached my puppy pics and no fi...\\nREAD MORE',\n",
       " 'iphone 11 is a very good phone to buy only if you can compromise for the display. The display on this is device is pretty good but you can get other options with better displays in this price segment.\\nIf you can survive with an HD+ LCD panel with thicker bezels and a notch up top then this is a very good phone for you.\\nCameras are awesome, battery backup excellent, great performance and a decent premium look. Good job Apple !',\n",
       " 'This is my first iOS phone. I am very happy with this product. Very much satisfied with this. I love this phone.',\n",
       " 'It’s a must buy who is looking for an upgrade from previous generation of iPhones. If you are using XR then still you can hold on for sometime and upgrade to 2020 model else this phone is a must buy . Camera quality is amazing and wide angle is something to count upon. Performance wise it’s amazing and feels premium while holding in hand. So a big YES for this device. Go for 128 GB variant as the 4K videos will occupy lots of space and the storage can get over very quickly. Try to buy it with...\\nREAD MORE',\n",
       " 'Value for money❤️❤️\\nIts awesome mobile phone in the world ...\\nDisplay was very good and bright ..\\nTrust me freinds you r never regret after Buying..\\nJust go for it....\\nI love this phone and i switch to iphone x to 11',\n",
       " '*Review after 10 months of usage*\\nDoesn\\'t seem bulky with decent touch and camera. The \"standard maintained\" quality of IPhone. Go for it, if your budget is not more enough for pro models. It\\'s a value for money among the 11 series Stereo speakers are so good, you will love the stereo sound. Battery backup is not decent but still better than Iphone 7 and 8.Processor is fast, the phone doesn\\'t lag at all even with heavy games, waterproof, faster face id and with no fingerprint scanners. The ca...\\nREAD MORE',\n",
       " 'Best budget Iphone till date ❤️ go for it guys without second thought. Let me explain you guys about Camera, Display, battery, and performance.\\n\\nCamera: at this price range there is no comparison of camera, you’ll love the picture quality as well as video quality. I am a Vlogger I wanted an iPhone with 4k video by front camera and I got this phone and I am more than happy 😃\\n\\nBattery: I use this phone roughly as I am active social media person and I have a youtube channel. so the battery ba...\\nREAD MORE']"
      ]
     },
     "execution_count": 62,
     "metadata": {},
     "output_type": "execute_result"
    }
   ],
   "source": [
    "for i in  reviews_tags:\n",
    "    review = i.text\n",
    "    full_review.append(review)\n",
    "full_review [0:100]"
   ]
  },
  {
   "cell_type": "code",
   "execution_count": 63,
   "metadata": {},
   "outputs": [
    {
     "name": "stdout",
     "output_type": "stream",
     "text": [
      "10 10 10\n"
     ]
    }
   ],
   "source": [
    "print (len (rating),len (review_summary),len (full_review))"
   ]
  },
  {
   "cell_type": "code",
   "execution_count": 64,
   "metadata": {},
   "outputs": [],
   "source": [
    "#importing pandas\n",
    "reviews = pd.DataFrame ({})\n",
    "reviews ['RATING'] = rating\n",
    "reviews ['REVIEW SUMMARY'] = review_summary\n",
    "reviews ['FULL REVIEW'] = full_review"
   ]
  },
  {
   "cell_type": "code",
   "execution_count": null,
   "metadata": {},
   "outputs": [],
   "source": [
    "rating = []\n",
    "review_summary = []\n",
    "full_review = []"
   ]
  },
  {
   "cell_type": "code",
   "execution_count": 65,
   "metadata": {},
   "outputs": [
    {
     "data": {
      "text/html": [
       "<div>\n",
       "<style scoped>\n",
       "    .dataframe tbody tr th:only-of-type {\n",
       "        vertical-align: middle;\n",
       "    }\n",
       "\n",
       "    .dataframe tbody tr th {\n",
       "        vertical-align: top;\n",
       "    }\n",
       "\n",
       "    .dataframe thead th {\n",
       "        text-align: right;\n",
       "    }\n",
       "</style>\n",
       "<table border=\"1\" class=\"dataframe\">\n",
       "  <thead>\n",
       "    <tr style=\"text-align: right;\">\n",
       "      <th></th>\n",
       "      <th>RATING</th>\n",
       "      <th>REVIEW SUMMARY</th>\n",
       "      <th>FULL REVIEW</th>\n",
       "    </tr>\n",
       "  </thead>\n",
       "  <tbody>\n",
       "    <tr>\n",
       "      <th>0</th>\n",
       "      <td>5</td>\n",
       "      <td>Brilliant</td>\n",
       "      <td>The Best Phone for the Money\\n\\nThe iPhone 11 ...</td>\n",
       "    </tr>\n",
       "    <tr>\n",
       "      <th>1</th>\n",
       "      <td>5</td>\n",
       "      <td>Perfect product!</td>\n",
       "      <td>Amazing phone with great cameras and better ba...</td>\n",
       "    </tr>\n",
       "    <tr>\n",
       "      <th>2</th>\n",
       "      <td>5</td>\n",
       "      <td>Worth every penny</td>\n",
       "      <td>Previously I was using one plus 3t it was a gr...</td>\n",
       "    </tr>\n",
       "    <tr>\n",
       "      <th>3</th>\n",
       "      <td>5</td>\n",
       "      <td>Great product</td>\n",
       "      <td>Amazing Powerful and Durable Gadget.\\n\\nI’m am...</td>\n",
       "    </tr>\n",
       "    <tr>\n",
       "      <th>4</th>\n",
       "      <td>5</td>\n",
       "      <td>Highly recommended</td>\n",
       "      <td>iphone 11 is a very good phone to buy only if ...</td>\n",
       "    </tr>\n",
       "    <tr>\n",
       "      <th>5</th>\n",
       "      <td>5</td>\n",
       "      <td>Fabulous!</td>\n",
       "      <td>This is my first iOS phone. I am very happy wi...</td>\n",
       "    </tr>\n",
       "    <tr>\n",
       "      <th>6</th>\n",
       "      <td>5</td>\n",
       "      <td>Perfect product!</td>\n",
       "      <td>It’s a must buy who is looking for an upgrade ...</td>\n",
       "    </tr>\n",
       "    <tr>\n",
       "      <th>7</th>\n",
       "      <td>5</td>\n",
       "      <td>Perfect product!</td>\n",
       "      <td>Value for money❤️❤️\\nIts awesome mobile phone ...</td>\n",
       "    </tr>\n",
       "    <tr>\n",
       "      <th>8</th>\n",
       "      <td>5</td>\n",
       "      <td>Wonderful</td>\n",
       "      <td>*Review after 10 months of usage*\\nDoesn't see...</td>\n",
       "    </tr>\n",
       "    <tr>\n",
       "      <th>9</th>\n",
       "      <td>5</td>\n",
       "      <td>Worth every penny</td>\n",
       "      <td>Best budget Iphone till date ❤️ go for it guys...</td>\n",
       "    </tr>\n",
       "  </tbody>\n",
       "</table>\n",
       "</div>"
      ],
      "text/plain": [
       "  RATING      REVIEW SUMMARY  \\\n",
       "0      5           Brilliant   \n",
       "1      5    Perfect product!   \n",
       "2      5   Worth every penny   \n",
       "3      5       Great product   \n",
       "4      5  Highly recommended   \n",
       "5      5           Fabulous!   \n",
       "6      5    Perfect product!   \n",
       "7      5    Perfect product!   \n",
       "8      5           Wonderful   \n",
       "9      5   Worth every penny   \n",
       "\n",
       "                                         FULL REVIEW  \n",
       "0  The Best Phone for the Money\\n\\nThe iPhone 11 ...  \n",
       "1  Amazing phone with great cameras and better ba...  \n",
       "2  Previously I was using one plus 3t it was a gr...  \n",
       "3  Amazing Powerful and Durable Gadget.\\n\\nI’m am...  \n",
       "4  iphone 11 is a very good phone to buy only if ...  \n",
       "5  This is my first iOS phone. I am very happy wi...  \n",
       "6  It’s a must buy who is looking for an upgrade ...  \n",
       "7  Value for money❤️❤️\\nIts awesome mobile phone ...  \n",
       "8  *Review after 10 months of usage*\\nDoesn't see...  \n",
       "9  Best budget Iphone till date ❤️ go for it guys...  "
      ]
     },
     "execution_count": 65,
     "metadata": {},
     "output_type": "execute_result"
    }
   ],
   "source": [
    "reviews"
   ]
  },
  {
   "cell_type": "raw",
   "metadata": {},
   "source": [
    "Q8. Scrape data for first 100 sneakers you find when you visit flipkart.com and search for “sneakers” in the search field.\n",
    "You have to scrape 4 attributes of each sneaker :\n",
    "1. Brand\n",
    "2. Product Description\n",
    "3. Price\n",
    "4. discount %"
   ]
  },
  {
   "cell_type": "code",
   "execution_count": 98,
   "metadata": {},
   "outputs": [],
   "source": [
    "#connecting to webdriver\n",
    "driver = webdriver.Chrome(r\"C://chromedriver.exe\")"
   ]
  },
  {
   "cell_type": "code",
   "execution_count": 99,
   "metadata": {},
   "outputs": [],
   "source": [
    "driver.get(\"https://www.flipkart.com/\")"
   ]
  },
  {
   "cell_type": "code",
   "execution_count": 100,
   "metadata": {},
   "outputs": [],
   "source": [
    "search_loc = driver.find_element_by_xpath (\"//input[@class = '_3704LK']\")\n",
    "search_loc.send_keys(\"Sneakers\")"
   ]
  },
  {
   "cell_type": "code",
   "execution_count": 69,
   "metadata": {
    "scrolled": true
   },
   "outputs": [
    {
     "ename": "NoSuchElementException",
     "evalue": "Message: no such element: Unable to locate element: {\"method\":\"xpath\",\"selector\":\"//div[@class ='_3izBDY']/button\"}\n  (Session info: chrome=89.0.4389.114)\n",
     "output_type": "error",
     "traceback": [
      "\u001b[1;31m---------------------------------------------------------------------------\u001b[0m",
      "\u001b[1;31mNoSuchElementException\u001b[0m                    Traceback (most recent call last)",
      "\u001b[1;32m<ipython-input-69-95feb6dfbeda>\u001b[0m in \u001b[0;36m<module>\u001b[1;34m\u001b[0m\n\u001b[1;32m----> 1\u001b[1;33m \u001b[0msearch_btn\u001b[0m \u001b[1;33m=\u001b[0m \u001b[0mdriver\u001b[0m\u001b[1;33m.\u001b[0m\u001b[0mfind_element_by_xpath\u001b[0m\u001b[1;33m(\u001b[0m\u001b[1;34m\"//div[@class ='_3izBDY']/button\"\u001b[0m\u001b[1;33m)\u001b[0m\u001b[1;33m\u001b[0m\u001b[1;33m\u001b[0m\u001b[0m\n\u001b[0m\u001b[0;32m      2\u001b[0m \u001b[0msearch_btn\u001b[0m\u001b[1;33m.\u001b[0m\u001b[0mclick\u001b[0m\u001b[1;33m(\u001b[0m\u001b[1;33m)\u001b[0m\u001b[1;33m\u001b[0m\u001b[1;33m\u001b[0m\u001b[0m\n",
      "\u001b[1;32m~\\anaconda3\\lib\\site-packages\\selenium\\webdriver\\remote\\webdriver.py\u001b[0m in \u001b[0;36mfind_element_by_xpath\u001b[1;34m(self, xpath)\u001b[0m\n\u001b[0;32m    392\u001b[0m             \u001b[0melement\u001b[0m \u001b[1;33m=\u001b[0m \u001b[0mdriver\u001b[0m\u001b[1;33m.\u001b[0m\u001b[0mfind_element_by_xpath\u001b[0m\u001b[1;33m(\u001b[0m\u001b[1;34m'//div/td[1]'\u001b[0m\u001b[1;33m)\u001b[0m\u001b[1;33m\u001b[0m\u001b[1;33m\u001b[0m\u001b[0m\n\u001b[0;32m    393\u001b[0m         \"\"\"\n\u001b[1;32m--> 394\u001b[1;33m         \u001b[1;32mreturn\u001b[0m \u001b[0mself\u001b[0m\u001b[1;33m.\u001b[0m\u001b[0mfind_element\u001b[0m\u001b[1;33m(\u001b[0m\u001b[0mby\u001b[0m\u001b[1;33m=\u001b[0m\u001b[0mBy\u001b[0m\u001b[1;33m.\u001b[0m\u001b[0mXPATH\u001b[0m\u001b[1;33m,\u001b[0m \u001b[0mvalue\u001b[0m\u001b[1;33m=\u001b[0m\u001b[0mxpath\u001b[0m\u001b[1;33m)\u001b[0m\u001b[1;33m\u001b[0m\u001b[1;33m\u001b[0m\u001b[0m\n\u001b[0m\u001b[0;32m    395\u001b[0m \u001b[1;33m\u001b[0m\u001b[0m\n\u001b[0;32m    396\u001b[0m     \u001b[1;32mdef\u001b[0m \u001b[0mfind_elements_by_xpath\u001b[0m\u001b[1;33m(\u001b[0m\u001b[0mself\u001b[0m\u001b[1;33m,\u001b[0m \u001b[0mxpath\u001b[0m\u001b[1;33m)\u001b[0m\u001b[1;33m:\u001b[0m\u001b[1;33m\u001b[0m\u001b[1;33m\u001b[0m\u001b[0m\n",
      "\u001b[1;32m~\\anaconda3\\lib\\site-packages\\selenium\\webdriver\\remote\\webdriver.py\u001b[0m in \u001b[0;36mfind_element\u001b[1;34m(self, by, value)\u001b[0m\n\u001b[0;32m    976\u001b[0m         return self.execute(Command.FIND_ELEMENT, {\n\u001b[0;32m    977\u001b[0m             \u001b[1;34m'using'\u001b[0m\u001b[1;33m:\u001b[0m \u001b[0mby\u001b[0m\u001b[1;33m,\u001b[0m\u001b[1;33m\u001b[0m\u001b[1;33m\u001b[0m\u001b[0m\n\u001b[1;32m--> 978\u001b[1;33m             'value': value})['value']\n\u001b[0m\u001b[0;32m    979\u001b[0m \u001b[1;33m\u001b[0m\u001b[0m\n\u001b[0;32m    980\u001b[0m     \u001b[1;32mdef\u001b[0m \u001b[0mfind_elements\u001b[0m\u001b[1;33m(\u001b[0m\u001b[0mself\u001b[0m\u001b[1;33m,\u001b[0m \u001b[0mby\u001b[0m\u001b[1;33m=\u001b[0m\u001b[0mBy\u001b[0m\u001b[1;33m.\u001b[0m\u001b[0mID\u001b[0m\u001b[1;33m,\u001b[0m \u001b[0mvalue\u001b[0m\u001b[1;33m=\u001b[0m\u001b[1;32mNone\u001b[0m\u001b[1;33m)\u001b[0m\u001b[1;33m:\u001b[0m\u001b[1;33m\u001b[0m\u001b[1;33m\u001b[0m\u001b[0m\n",
      "\u001b[1;32m~\\anaconda3\\lib\\site-packages\\selenium\\webdriver\\remote\\webdriver.py\u001b[0m in \u001b[0;36mexecute\u001b[1;34m(self, driver_command, params)\u001b[0m\n\u001b[0;32m    319\u001b[0m         \u001b[0mresponse\u001b[0m \u001b[1;33m=\u001b[0m \u001b[0mself\u001b[0m\u001b[1;33m.\u001b[0m\u001b[0mcommand_executor\u001b[0m\u001b[1;33m.\u001b[0m\u001b[0mexecute\u001b[0m\u001b[1;33m(\u001b[0m\u001b[0mdriver_command\u001b[0m\u001b[1;33m,\u001b[0m \u001b[0mparams\u001b[0m\u001b[1;33m)\u001b[0m\u001b[1;33m\u001b[0m\u001b[1;33m\u001b[0m\u001b[0m\n\u001b[0;32m    320\u001b[0m         \u001b[1;32mif\u001b[0m \u001b[0mresponse\u001b[0m\u001b[1;33m:\u001b[0m\u001b[1;33m\u001b[0m\u001b[1;33m\u001b[0m\u001b[0m\n\u001b[1;32m--> 321\u001b[1;33m             \u001b[0mself\u001b[0m\u001b[1;33m.\u001b[0m\u001b[0merror_handler\u001b[0m\u001b[1;33m.\u001b[0m\u001b[0mcheck_response\u001b[0m\u001b[1;33m(\u001b[0m\u001b[0mresponse\u001b[0m\u001b[1;33m)\u001b[0m\u001b[1;33m\u001b[0m\u001b[1;33m\u001b[0m\u001b[0m\n\u001b[0m\u001b[0;32m    322\u001b[0m             response['value'] = self._unwrap_value(\n\u001b[0;32m    323\u001b[0m                 response.get('value', None))\n",
      "\u001b[1;32m~\\anaconda3\\lib\\site-packages\\selenium\\webdriver\\remote\\errorhandler.py\u001b[0m in \u001b[0;36mcheck_response\u001b[1;34m(self, response)\u001b[0m\n\u001b[0;32m    240\u001b[0m                 \u001b[0malert_text\u001b[0m \u001b[1;33m=\u001b[0m \u001b[0mvalue\u001b[0m\u001b[1;33m[\u001b[0m\u001b[1;34m'alert'\u001b[0m\u001b[1;33m]\u001b[0m\u001b[1;33m.\u001b[0m\u001b[0mget\u001b[0m\u001b[1;33m(\u001b[0m\u001b[1;34m'text'\u001b[0m\u001b[1;33m)\u001b[0m\u001b[1;33m\u001b[0m\u001b[1;33m\u001b[0m\u001b[0m\n\u001b[0;32m    241\u001b[0m             \u001b[1;32mraise\u001b[0m \u001b[0mexception_class\u001b[0m\u001b[1;33m(\u001b[0m\u001b[0mmessage\u001b[0m\u001b[1;33m,\u001b[0m \u001b[0mscreen\u001b[0m\u001b[1;33m,\u001b[0m \u001b[0mstacktrace\u001b[0m\u001b[1;33m,\u001b[0m \u001b[0malert_text\u001b[0m\u001b[1;33m)\u001b[0m\u001b[1;33m\u001b[0m\u001b[1;33m\u001b[0m\u001b[0m\n\u001b[1;32m--> 242\u001b[1;33m         \u001b[1;32mraise\u001b[0m \u001b[0mexception_class\u001b[0m\u001b[1;33m(\u001b[0m\u001b[0mmessage\u001b[0m\u001b[1;33m,\u001b[0m \u001b[0mscreen\u001b[0m\u001b[1;33m,\u001b[0m \u001b[0mstacktrace\u001b[0m\u001b[1;33m)\u001b[0m\u001b[1;33m\u001b[0m\u001b[1;33m\u001b[0m\u001b[0m\n\u001b[0m\u001b[0;32m    243\u001b[0m \u001b[1;33m\u001b[0m\u001b[0m\n\u001b[0;32m    244\u001b[0m     \u001b[1;32mdef\u001b[0m \u001b[0m_value_or_default\u001b[0m\u001b[1;33m(\u001b[0m\u001b[0mself\u001b[0m\u001b[1;33m,\u001b[0m \u001b[0mobj\u001b[0m\u001b[1;33m,\u001b[0m \u001b[0mkey\u001b[0m\u001b[1;33m,\u001b[0m \u001b[0mdefault\u001b[0m\u001b[1;33m)\u001b[0m\u001b[1;33m:\u001b[0m\u001b[1;33m\u001b[0m\u001b[1;33m\u001b[0m\u001b[0m\n",
      "\u001b[1;31mNoSuchElementException\u001b[0m: Message: no such element: Unable to locate element: {\"method\":\"xpath\",\"selector\":\"//div[@class ='_3izBDY']/button\"}\n  (Session info: chrome=89.0.4389.114)\n"
     ]
    }
   ],
   "source": [
    "search_btn = driver.find_element_by_xpath(\"//div[@class ='_3izBDY']/button\")\n",
    "search_btn.click()"
   ]
  },
  {
   "cell_type": "code",
   "execution_count": 101,
   "metadata": {},
   "outputs": [],
   "source": [
    "url = \"https://www.flipkart.com/search?q=Sneakers&otracker=search&otracker1=search&marketplace=FLIPKART&as-show=on&as=off\""
   ]
  },
  {
   "cell_type": "code",
   "execution_count": 102,
   "metadata": {},
   "outputs": [],
   "source": [
    "# lets open the page through web driver\n",
    "driver.get(url)"
   ]
  },
  {
   "cell_type": "code",
   "execution_count": 103,
   "metadata": {},
   "outputs": [],
   "source": [
    "brand = []\n",
    "product_description = []\n",
    "price = []\n",
    "discount = []"
   ]
  },
  {
   "cell_type": "code",
   "execution_count": 104,
   "metadata": {},
   "outputs": [
    {
     "data": {
      "text/plain": [
       "[<selenium.webdriver.remote.webelement.WebElement (session=\"9019b0888331fe78387b2d89caa66349\", element=\"c0e60ae9-a4eb-4dad-88ac-9746e8d23fc5\")>,\n",
       " <selenium.webdriver.remote.webelement.WebElement (session=\"9019b0888331fe78387b2d89caa66349\", element=\"27367bda-8485-48ed-90eb-7b71d4d6ba8a\")>,\n",
       " <selenium.webdriver.remote.webelement.WebElement (session=\"9019b0888331fe78387b2d89caa66349\", element=\"2697de08-85a1-405e-b2a4-46bfbe9c077a\")>,\n",
       " <selenium.webdriver.remote.webelement.WebElement (session=\"9019b0888331fe78387b2d89caa66349\", element=\"e0333e1e-104e-409c-82a3-998c7b1b0591\")>,\n",
       " <selenium.webdriver.remote.webelement.WebElement (session=\"9019b0888331fe78387b2d89caa66349\", element=\"87c322a0-0c6c-4f94-8b48-86d7cbd6bd9d\")>,\n",
       " <selenium.webdriver.remote.webelement.WebElement (session=\"9019b0888331fe78387b2d89caa66349\", element=\"1663ef02-a409-4f3a-a2ae-fcf2476f742c\")>,\n",
       " <selenium.webdriver.remote.webelement.WebElement (session=\"9019b0888331fe78387b2d89caa66349\", element=\"c7619654-dd01-49f0-ab4d-827a558f9b87\")>,\n",
       " <selenium.webdriver.remote.webelement.WebElement (session=\"9019b0888331fe78387b2d89caa66349\", element=\"b0ed35f6-66e8-4649-a3d3-ab0fa489dc80\")>,\n",
       " <selenium.webdriver.remote.webelement.WebElement (session=\"9019b0888331fe78387b2d89caa66349\", element=\"120d6db4-2bfc-458e-bf40-3c8a483d2abf\")>,\n",
       " <selenium.webdriver.remote.webelement.WebElement (session=\"9019b0888331fe78387b2d89caa66349\", element=\"49add7b1-da94-4928-bbf5-d3caba788836\")>]"
      ]
     },
     "execution_count": 104,
     "metadata": {},
     "output_type": "execute_result"
    }
   ],
   "source": [
    "#lets extract brands\n",
    "brands_tags = driver.find_elements_by_xpath (\"//div[@class = '_2WkVRV']\")\n",
    "brands_tags [0:10]"
   ]
  },
  {
   "cell_type": "code",
   "execution_count": 105,
   "metadata": {},
   "outputs": [
    {
     "data": {
      "text/plain": [
       "['Chevit',\n",
       " 'Extoes',\n",
       " 'Robbie jones',\n",
       " 'Chevit',\n",
       " 'Chevit',\n",
       " 'ORICUM',\n",
       " 'Chevit',\n",
       " 'Shoes Bank',\n",
       " 'Robbie jones',\n",
       " 'Red Rose']"
      ]
     },
     "execution_count": 105,
     "metadata": {},
     "output_type": "execute_result"
    }
   ],
   "source": [
    "for i in  brands_tags:\n",
    "    brands = i.text\n",
    "    brand.append(brands)\n",
    "brand [0:10]"
   ]
  },
  {
   "cell_type": "code",
   "execution_count": 106,
   "metadata": {},
   "outputs": [
    {
     "data": {
      "text/plain": [
       "[<selenium.webdriver.remote.webelement.WebElement (session=\"9019b0888331fe78387b2d89caa66349\", element=\"18cb9e49-8fc0-4171-9ada-a269ec0f489d\")>,\n",
       " <selenium.webdriver.remote.webelement.WebElement (session=\"9019b0888331fe78387b2d89caa66349\", element=\"4d853dc8-3956-4212-99e0-ebdba495679a\")>,\n",
       " <selenium.webdriver.remote.webelement.WebElement (session=\"9019b0888331fe78387b2d89caa66349\", element=\"0673bda0-761d-4840-b124-ba27a77df1c3\")>,\n",
       " <selenium.webdriver.remote.webelement.WebElement (session=\"9019b0888331fe78387b2d89caa66349\", element=\"c5a862ed-61d1-45cb-8dd4-9708fe4156fb\")>,\n",
       " <selenium.webdriver.remote.webelement.WebElement (session=\"9019b0888331fe78387b2d89caa66349\", element=\"c95ab50c-9569-415f-98fc-0cdb0f82afc3\")>,\n",
       " <selenium.webdriver.remote.webelement.WebElement (session=\"9019b0888331fe78387b2d89caa66349\", element=\"f8d512f6-907f-4427-9e46-903d34664537\")>,\n",
       " <selenium.webdriver.remote.webelement.WebElement (session=\"9019b0888331fe78387b2d89caa66349\", element=\"8b8b6e94-4d94-43fc-b8fb-c748dcb815ed\")>,\n",
       " <selenium.webdriver.remote.webelement.WebElement (session=\"9019b0888331fe78387b2d89caa66349\", element=\"8c0304a2-1f1f-48de-9c81-cb2cd753239c\")>,\n",
       " <selenium.webdriver.remote.webelement.WebElement (session=\"9019b0888331fe78387b2d89caa66349\", element=\"ba00cd19-cf1f-4821-a82b-ea18d0263d70\")>,\n",
       " <selenium.webdriver.remote.webelement.WebElement (session=\"9019b0888331fe78387b2d89caa66349\", element=\"36015da9-9556-4fa1-8952-40e4c17e44cc\")>]"
      ]
     },
     "execution_count": 106,
     "metadata": {},
     "output_type": "execute_result"
    }
   ],
   "source": [
    "#lets extract product description\n",
    "description_tags = driver.find_elements_by_xpath (\"//a[@class = 'IRpwTa']\")\n",
    "description_tags [0:10]"
   ]
  },
  {
   "cell_type": "code",
   "execution_count": 107,
   "metadata": {},
   "outputs": [
    {
     "data": {
      "text/plain": [
       "['Perfect & Affordable Combo Pack of 02 Pairs Sneakers Ou...',\n",
       " 'Modern Trendy Shoes Combo pack of 4 Sneakers For Men',\n",
       " 'Casual Sneakers Shoes For Men Sneakers For Men',\n",
       " \"Super & Trendy Men's Pack of 02 Pair Shoes for Boys Cas...\",\n",
       " 'Combo Pack of 4 Casual Sneakers With Sneakers For Men',\n",
       " 'Combo pack of 2 casual sneaker shoes for men Sneakers F...',\n",
       " '494 Perfect Sports Shoes for Running Training Hikking &...',\n",
       " \"White Sneaker For Men's/Boy's Sneakers For Men\",\n",
       " 'Sneakers For Men',\n",
       " 'Sneakers For Men']"
      ]
     },
     "execution_count": 107,
     "metadata": {},
     "output_type": "execute_result"
    }
   ],
   "source": [
    "for i in  description_tags:\n",
    "    description = i.text\n",
    "    product_description.append(description)\n",
    "product_description [0:10]"
   ]
  },
  {
   "cell_type": "code",
   "execution_count": 108,
   "metadata": {},
   "outputs": [
    {
     "data": {
      "text/plain": [
       "[<selenium.webdriver.remote.webelement.WebElement (session=\"9019b0888331fe78387b2d89caa66349\", element=\"2321f1b9-b4bd-41a9-b38e-2704aae7c391\")>,\n",
       " <selenium.webdriver.remote.webelement.WebElement (session=\"9019b0888331fe78387b2d89caa66349\", element=\"29feabff-47cc-45c2-91a7-2d43354a245e\")>,\n",
       " <selenium.webdriver.remote.webelement.WebElement (session=\"9019b0888331fe78387b2d89caa66349\", element=\"b7c452c4-aa30-4362-be69-c8bddce2d6d8\")>,\n",
       " <selenium.webdriver.remote.webelement.WebElement (session=\"9019b0888331fe78387b2d89caa66349\", element=\"77083dfe-c550-4990-a027-043d9c653055\")>,\n",
       " <selenium.webdriver.remote.webelement.WebElement (session=\"9019b0888331fe78387b2d89caa66349\", element=\"4029b0cf-b697-41e2-ae9e-5ecc1169422f\")>,\n",
       " <selenium.webdriver.remote.webelement.WebElement (session=\"9019b0888331fe78387b2d89caa66349\", element=\"ab1224ed-c8b4-4067-b39c-8b7b9b3456eb\")>,\n",
       " <selenium.webdriver.remote.webelement.WebElement (session=\"9019b0888331fe78387b2d89caa66349\", element=\"30ae1a36-eab2-4ede-a8cd-3a9dea773449\")>,\n",
       " <selenium.webdriver.remote.webelement.WebElement (session=\"9019b0888331fe78387b2d89caa66349\", element=\"6253921e-a1d6-4875-b716-91141baa4c9e\")>,\n",
       " <selenium.webdriver.remote.webelement.WebElement (session=\"9019b0888331fe78387b2d89caa66349\", element=\"7be71be0-b109-46fa-94c1-ec3ccab22919\")>,\n",
       " <selenium.webdriver.remote.webelement.WebElement (session=\"9019b0888331fe78387b2d89caa66349\", element=\"7d25cac1-3b62-4279-8505-469158f01a98\")>]"
      ]
     },
     "execution_count": 108,
     "metadata": {},
     "output_type": "execute_result"
    }
   ],
   "source": [
    "#lets extract price\n",
    "price_tags = driver.find_elements_by_xpath (\"//div[@class = '_30jeq3']\")\n",
    "price_tags [0:10]"
   ]
  },
  {
   "cell_type": "code",
   "execution_count": 109,
   "metadata": {},
   "outputs": [
    {
     "data": {
      "text/plain": [
       "['₹499',\n",
       " '₹795',\n",
       " '₹379',\n",
       " '₹420',\n",
       " '₹474',\n",
       " '₹398',\n",
       " '₹254',\n",
       " '₹349',\n",
       " '₹474',\n",
       " '₹379']"
      ]
     },
     "execution_count": 109,
     "metadata": {},
     "output_type": "execute_result"
    }
   ],
   "source": [
    "for i in  price_tags:\n",
    "    prices = i.text\n",
    "    price.append(prices)\n",
    "price [0:10]"
   ]
  },
  {
   "cell_type": "code",
   "execution_count": 113,
   "metadata": {},
   "outputs": [
    {
     "data": {
      "text/plain": [
       "[<selenium.webdriver.remote.webelement.WebElement (session=\"9019b0888331fe78387b2d89caa66349\", element=\"870b9506-505b-4e69-8a2c-5587adce1174\")>,\n",
       " <selenium.webdriver.remote.webelement.WebElement (session=\"9019b0888331fe78387b2d89caa66349\", element=\"aa7ba5ef-36c5-48a5-86b0-4450894ef006\")>,\n",
       " <selenium.webdriver.remote.webelement.WebElement (session=\"9019b0888331fe78387b2d89caa66349\", element=\"a3b950be-2a5d-4cb4-be65-f2217dcb9a13\")>,\n",
       " <selenium.webdriver.remote.webelement.WebElement (session=\"9019b0888331fe78387b2d89caa66349\", element=\"15c4c845-0bea-4e4b-bf86-828b623353b4\")>,\n",
       " <selenium.webdriver.remote.webelement.WebElement (session=\"9019b0888331fe78387b2d89caa66349\", element=\"14fb4e9d-5661-44e3-bb20-d594fcd040be\")>,\n",
       " <selenium.webdriver.remote.webelement.WebElement (session=\"9019b0888331fe78387b2d89caa66349\", element=\"ff40f655-c485-4510-99c6-1d7763aa1621\")>,\n",
       " <selenium.webdriver.remote.webelement.WebElement (session=\"9019b0888331fe78387b2d89caa66349\", element=\"51f605c6-913d-4ff1-b57b-2f0c5a5d115e\")>,\n",
       " <selenium.webdriver.remote.webelement.WebElement (session=\"9019b0888331fe78387b2d89caa66349\", element=\"79574efe-977d-40a8-b261-3278a62c707e\")>,\n",
       " <selenium.webdriver.remote.webelement.WebElement (session=\"9019b0888331fe78387b2d89caa66349\", element=\"989f83f0-35e3-430c-8f31-c885b3ef3398\")>,\n",
       " <selenium.webdriver.remote.webelement.WebElement (session=\"9019b0888331fe78387b2d89caa66349\", element=\"e2a29ebc-d68f-4a34-96fb-fd4391c0ac1b\")>]"
      ]
     },
     "execution_count": 113,
     "metadata": {},
     "output_type": "execute_result"
    }
   ],
   "source": [
    "#lets extract discount %\n",
    "discount_tags = driver.find_elements_by_xpath (\"//div[@class = '_3Ay6Sb']/span\")\n",
    "discount_tags [0:10]"
   ]
  },
  {
   "cell_type": "code",
   "execution_count": 114,
   "metadata": {},
   "outputs": [
    {
     "data": {
      "text/plain": [
       "['72% off',\n",
       " '46% off',\n",
       " '62% off',\n",
       " '78% off',\n",
       " '76% off',\n",
       " '60% off',\n",
       " '74% off',\n",
       " '65% off',\n",
       " '52% off',\n",
       " '62% off']"
      ]
     },
     "execution_count": 114,
     "metadata": {},
     "output_type": "execute_result"
    }
   ],
   "source": [
    "for i in  discount_tags:\n",
    "    discounts = i.text\n",
    "    discount.append(discounts)\n",
    "discount [0:10]"
   ]
  },
  {
   "cell_type": "code",
   "execution_count": 115,
   "metadata": {},
   "outputs": [
    {
     "name": "stdout",
     "output_type": "stream",
     "text": [
      "40 34 40 78\n"
     ]
    }
   ],
   "source": [
    "print (len (brand),len (product_description),len (price),len (discount))"
   ]
  },
  {
   "cell_type": "code",
   "execution_count": 94,
   "metadata": {},
   "outputs": [
    {
     "ename": "ValueError",
     "evalue": "Length of values does not match length of index",
     "output_type": "error",
     "traceback": [
      "\u001b[1;31m---------------------------------------------------------------------------\u001b[0m",
      "\u001b[1;31mValueError\u001b[0m                                Traceback (most recent call last)",
      "\u001b[1;32m<ipython-input-94-5f565c003f35>\u001b[0m in \u001b[0;36m<module>\u001b[1;34m\u001b[0m\n\u001b[0;32m      2\u001b[0m \u001b[0mitems\u001b[0m \u001b[1;33m=\u001b[0m \u001b[0mpd\u001b[0m\u001b[1;33m.\u001b[0m\u001b[0mDataFrame\u001b[0m \u001b[1;33m(\u001b[0m\u001b[1;33m{\u001b[0m\u001b[1;33m}\u001b[0m\u001b[1;33m)\u001b[0m\u001b[1;33m\u001b[0m\u001b[1;33m\u001b[0m\u001b[0m\n\u001b[0;32m      3\u001b[0m \u001b[0mitems\u001b[0m \u001b[1;33m[\u001b[0m\u001b[1;34m'BRAND'\u001b[0m\u001b[1;33m]\u001b[0m \u001b[1;33m=\u001b[0m \u001b[0mbrand\u001b[0m\u001b[1;33m\u001b[0m\u001b[1;33m\u001b[0m\u001b[0m\n\u001b[1;32m----> 4\u001b[1;33m \u001b[0mitems\u001b[0m \u001b[1;33m[\u001b[0m\u001b[1;34m'DESCRIPTION'\u001b[0m\u001b[1;33m]\u001b[0m \u001b[1;33m=\u001b[0m \u001b[0mproduct_description\u001b[0m\u001b[1;33m\u001b[0m\u001b[1;33m\u001b[0m\u001b[0m\n\u001b[0m\u001b[0;32m      5\u001b[0m \u001b[0mitems\u001b[0m \u001b[1;33m[\u001b[0m\u001b[1;34m'PRICE'\u001b[0m\u001b[1;33m]\u001b[0m \u001b[1;33m=\u001b[0m \u001b[0mprice\u001b[0m\u001b[1;33m\u001b[0m\u001b[1;33m\u001b[0m\u001b[0m\n\u001b[0;32m      6\u001b[0m \u001b[0mitems\u001b[0m \u001b[1;33m[\u001b[0m\u001b[1;34m'DISCOUNT'\u001b[0m\u001b[1;33m]\u001b[0m \u001b[1;33m=\u001b[0m \u001b[0mdiscount\u001b[0m\u001b[1;33m\u001b[0m\u001b[1;33m\u001b[0m\u001b[0m\n",
      "\u001b[1;32m~\\anaconda3\\lib\\site-packages\\pandas\\core\\frame.py\u001b[0m in \u001b[0;36m__setitem__\u001b[1;34m(self, key, value)\u001b[0m\n\u001b[0;32m   2936\u001b[0m         \u001b[1;32melse\u001b[0m\u001b[1;33m:\u001b[0m\u001b[1;33m\u001b[0m\u001b[1;33m\u001b[0m\u001b[0m\n\u001b[0;32m   2937\u001b[0m             \u001b[1;31m# set column\u001b[0m\u001b[1;33m\u001b[0m\u001b[1;33m\u001b[0m\u001b[1;33m\u001b[0m\u001b[0m\n\u001b[1;32m-> 2938\u001b[1;33m             \u001b[0mself\u001b[0m\u001b[1;33m.\u001b[0m\u001b[0m_set_item\u001b[0m\u001b[1;33m(\u001b[0m\u001b[0mkey\u001b[0m\u001b[1;33m,\u001b[0m \u001b[0mvalue\u001b[0m\u001b[1;33m)\u001b[0m\u001b[1;33m\u001b[0m\u001b[1;33m\u001b[0m\u001b[0m\n\u001b[0m\u001b[0;32m   2939\u001b[0m \u001b[1;33m\u001b[0m\u001b[0m\n\u001b[0;32m   2940\u001b[0m     \u001b[1;32mdef\u001b[0m \u001b[0m_setitem_slice\u001b[0m\u001b[1;33m(\u001b[0m\u001b[0mself\u001b[0m\u001b[1;33m,\u001b[0m \u001b[0mkey\u001b[0m\u001b[1;33m,\u001b[0m \u001b[0mvalue\u001b[0m\u001b[1;33m)\u001b[0m\u001b[1;33m:\u001b[0m\u001b[1;33m\u001b[0m\u001b[1;33m\u001b[0m\u001b[0m\n",
      "\u001b[1;32m~\\anaconda3\\lib\\site-packages\\pandas\\core\\frame.py\u001b[0m in \u001b[0;36m_set_item\u001b[1;34m(self, key, value)\u001b[0m\n\u001b[0;32m   2998\u001b[0m \u001b[1;33m\u001b[0m\u001b[0m\n\u001b[0;32m   2999\u001b[0m         \u001b[0mself\u001b[0m\u001b[1;33m.\u001b[0m\u001b[0m_ensure_valid_index\u001b[0m\u001b[1;33m(\u001b[0m\u001b[0mvalue\u001b[0m\u001b[1;33m)\u001b[0m\u001b[1;33m\u001b[0m\u001b[1;33m\u001b[0m\u001b[0m\n\u001b[1;32m-> 3000\u001b[1;33m         \u001b[0mvalue\u001b[0m \u001b[1;33m=\u001b[0m \u001b[0mself\u001b[0m\u001b[1;33m.\u001b[0m\u001b[0m_sanitize_column\u001b[0m\u001b[1;33m(\u001b[0m\u001b[0mkey\u001b[0m\u001b[1;33m,\u001b[0m \u001b[0mvalue\u001b[0m\u001b[1;33m)\u001b[0m\u001b[1;33m\u001b[0m\u001b[1;33m\u001b[0m\u001b[0m\n\u001b[0m\u001b[0;32m   3001\u001b[0m         \u001b[0mNDFrame\u001b[0m\u001b[1;33m.\u001b[0m\u001b[0m_set_item\u001b[0m\u001b[1;33m(\u001b[0m\u001b[0mself\u001b[0m\u001b[1;33m,\u001b[0m \u001b[0mkey\u001b[0m\u001b[1;33m,\u001b[0m \u001b[0mvalue\u001b[0m\u001b[1;33m)\u001b[0m\u001b[1;33m\u001b[0m\u001b[1;33m\u001b[0m\u001b[0m\n\u001b[0;32m   3002\u001b[0m \u001b[1;33m\u001b[0m\u001b[0m\n",
      "\u001b[1;32m~\\anaconda3\\lib\\site-packages\\pandas\\core\\frame.py\u001b[0m in \u001b[0;36m_sanitize_column\u001b[1;34m(self, key, value, broadcast)\u001b[0m\n\u001b[0;32m   3634\u001b[0m \u001b[1;33m\u001b[0m\u001b[0m\n\u001b[0;32m   3635\u001b[0m             \u001b[1;31m# turn me into an ndarray\u001b[0m\u001b[1;33m\u001b[0m\u001b[1;33m\u001b[0m\u001b[1;33m\u001b[0m\u001b[0m\n\u001b[1;32m-> 3636\u001b[1;33m             \u001b[0mvalue\u001b[0m \u001b[1;33m=\u001b[0m \u001b[0msanitize_index\u001b[0m\u001b[1;33m(\u001b[0m\u001b[0mvalue\u001b[0m\u001b[1;33m,\u001b[0m \u001b[0mself\u001b[0m\u001b[1;33m.\u001b[0m\u001b[0mindex\u001b[0m\u001b[1;33m,\u001b[0m \u001b[0mcopy\u001b[0m\u001b[1;33m=\u001b[0m\u001b[1;32mFalse\u001b[0m\u001b[1;33m)\u001b[0m\u001b[1;33m\u001b[0m\u001b[1;33m\u001b[0m\u001b[0m\n\u001b[0m\u001b[0;32m   3637\u001b[0m             \u001b[1;32mif\u001b[0m \u001b[1;32mnot\u001b[0m \u001b[0misinstance\u001b[0m\u001b[1;33m(\u001b[0m\u001b[0mvalue\u001b[0m\u001b[1;33m,\u001b[0m \u001b[1;33m(\u001b[0m\u001b[0mnp\u001b[0m\u001b[1;33m.\u001b[0m\u001b[0mndarray\u001b[0m\u001b[1;33m,\u001b[0m \u001b[0mIndex\u001b[0m\u001b[1;33m)\u001b[0m\u001b[1;33m)\u001b[0m\u001b[1;33m:\u001b[0m\u001b[1;33m\u001b[0m\u001b[1;33m\u001b[0m\u001b[0m\n\u001b[0;32m   3638\u001b[0m                 \u001b[1;32mif\u001b[0m \u001b[0misinstance\u001b[0m\u001b[1;33m(\u001b[0m\u001b[0mvalue\u001b[0m\u001b[1;33m,\u001b[0m \u001b[0mlist\u001b[0m\u001b[1;33m)\u001b[0m \u001b[1;32mand\u001b[0m \u001b[0mlen\u001b[0m\u001b[1;33m(\u001b[0m\u001b[0mvalue\u001b[0m\u001b[1;33m)\u001b[0m \u001b[1;33m>\u001b[0m \u001b[1;36m0\u001b[0m\u001b[1;33m:\u001b[0m\u001b[1;33m\u001b[0m\u001b[1;33m\u001b[0m\u001b[0m\n",
      "\u001b[1;32m~\\anaconda3\\lib\\site-packages\\pandas\\core\\internals\\construction.py\u001b[0m in \u001b[0;36msanitize_index\u001b[1;34m(data, index, copy)\u001b[0m\n\u001b[0;32m    609\u001b[0m \u001b[1;33m\u001b[0m\u001b[0m\n\u001b[0;32m    610\u001b[0m     \u001b[1;32mif\u001b[0m \u001b[0mlen\u001b[0m\u001b[1;33m(\u001b[0m\u001b[0mdata\u001b[0m\u001b[1;33m)\u001b[0m \u001b[1;33m!=\u001b[0m \u001b[0mlen\u001b[0m\u001b[1;33m(\u001b[0m\u001b[0mindex\u001b[0m\u001b[1;33m)\u001b[0m\u001b[1;33m:\u001b[0m\u001b[1;33m\u001b[0m\u001b[1;33m\u001b[0m\u001b[0m\n\u001b[1;32m--> 611\u001b[1;33m         \u001b[1;32mraise\u001b[0m \u001b[0mValueError\u001b[0m\u001b[1;33m(\u001b[0m\u001b[1;34m\"Length of values does not match length of index\"\u001b[0m\u001b[1;33m)\u001b[0m\u001b[1;33m\u001b[0m\u001b[1;33m\u001b[0m\u001b[0m\n\u001b[0m\u001b[0;32m    612\u001b[0m \u001b[1;33m\u001b[0m\u001b[0m\n\u001b[0;32m    613\u001b[0m     \u001b[1;32mif\u001b[0m \u001b[0misinstance\u001b[0m\u001b[1;33m(\u001b[0m\u001b[0mdata\u001b[0m\u001b[1;33m,\u001b[0m \u001b[0mABCIndexClass\u001b[0m\u001b[1;33m)\u001b[0m \u001b[1;32mand\u001b[0m \u001b[1;32mnot\u001b[0m \u001b[0mcopy\u001b[0m\u001b[1;33m:\u001b[0m\u001b[1;33m\u001b[0m\u001b[1;33m\u001b[0m\u001b[0m\n",
      "\u001b[1;31mValueError\u001b[0m: Length of values does not match length of index"
     ]
    }
   ],
   "source": [
    "#importing pandas\n",
    "items = pd.DataFrame ({})\n",
    "items ['BRAND'] = brand\n",
    "items ['DESCRIPTION'] = product_description\n",
    "items ['PRICE'] = price\n",
    "items ['DISCOUNT'] = discount"
   ]
  },
  {
   "cell_type": "code",
   "execution_count": 116,
   "metadata": {},
   "outputs": [
    {
     "data": {
      "text/html": [
       "<div>\n",
       "<style scoped>\n",
       "    .dataframe tbody tr th:only-of-type {\n",
       "        vertical-align: middle;\n",
       "    }\n",
       "\n",
       "    .dataframe tbody tr th {\n",
       "        vertical-align: top;\n",
       "    }\n",
       "\n",
       "    .dataframe thead th {\n",
       "        text-align: right;\n",
       "    }\n",
       "</style>\n",
       "<table border=\"1\" class=\"dataframe\">\n",
       "  <thead>\n",
       "    <tr style=\"text-align: right;\">\n",
       "      <th></th>\n",
       "      <th>BRAND</th>\n",
       "    </tr>\n",
       "  </thead>\n",
       "  <tbody>\n",
       "    <tr>\n",
       "      <th>0</th>\n",
       "      <td>French Connection</td>\n",
       "    </tr>\n",
       "    <tr>\n",
       "      <th>1</th>\n",
       "      <td>ORICUM</td>\n",
       "    </tr>\n",
       "    <tr>\n",
       "      <th>2</th>\n",
       "      <td>Chevit</td>\n",
       "    </tr>\n",
       "    <tr>\n",
       "      <th>3</th>\n",
       "      <td>Extoes</td>\n",
       "    </tr>\n",
       "    <tr>\n",
       "      <th>4</th>\n",
       "      <td>Robbie jones</td>\n",
       "    </tr>\n",
       "    <tr>\n",
       "      <th>5</th>\n",
       "      <td>Chevit</td>\n",
       "    </tr>\n",
       "    <tr>\n",
       "      <th>6</th>\n",
       "      <td>Chevit</td>\n",
       "    </tr>\n",
       "    <tr>\n",
       "      <th>7</th>\n",
       "      <td>ORICUM</td>\n",
       "    </tr>\n",
       "    <tr>\n",
       "      <th>8</th>\n",
       "      <td>Chevit</td>\n",
       "    </tr>\n",
       "    <tr>\n",
       "      <th>9</th>\n",
       "      <td>Robbie jones</td>\n",
       "    </tr>\n",
       "    <tr>\n",
       "      <th>10</th>\n",
       "      <td>Shoes Bank</td>\n",
       "    </tr>\n",
       "    <tr>\n",
       "      <th>11</th>\n",
       "      <td>Red Rose</td>\n",
       "    </tr>\n",
       "    <tr>\n",
       "      <th>12</th>\n",
       "      <td>Numenzo</td>\n",
       "    </tr>\n",
       "    <tr>\n",
       "      <th>13</th>\n",
       "      <td>DUCATI</td>\n",
       "    </tr>\n",
       "    <tr>\n",
       "      <th>14</th>\n",
       "      <td>PUMA</td>\n",
       "    </tr>\n",
       "    <tr>\n",
       "      <th>15</th>\n",
       "      <td>aadi</td>\n",
       "    </tr>\n",
       "    <tr>\n",
       "      <th>16</th>\n",
       "      <td>Stefano Rads</td>\n",
       "    </tr>\n",
       "    <tr>\n",
       "      <th>17</th>\n",
       "      <td>believe</td>\n",
       "    </tr>\n",
       "    <tr>\n",
       "      <th>18</th>\n",
       "      <td>Raftar</td>\n",
       "    </tr>\n",
       "    <tr>\n",
       "      <th>19</th>\n",
       "      <td>well feet</td>\n",
       "    </tr>\n",
       "    <tr>\n",
       "      <th>20</th>\n",
       "      <td>Chevit</td>\n",
       "    </tr>\n",
       "    <tr>\n",
       "      <th>21</th>\n",
       "      <td>\"trend\"</td>\n",
       "    </tr>\n",
       "    <tr>\n",
       "      <th>22</th>\n",
       "      <td>Birde</td>\n",
       "    </tr>\n",
       "    <tr>\n",
       "      <th>23</th>\n",
       "      <td>Fzzirok</td>\n",
       "    </tr>\n",
       "    <tr>\n",
       "      <th>24</th>\n",
       "      <td>Magnolia</td>\n",
       "    </tr>\n",
       "    <tr>\n",
       "      <th>25</th>\n",
       "      <td>T-ROCK</td>\n",
       "    </tr>\n",
       "    <tr>\n",
       "      <th>26</th>\n",
       "      <td>Chevit</td>\n",
       "    </tr>\n",
       "    <tr>\n",
       "      <th>27</th>\n",
       "      <td>Chevit</td>\n",
       "    </tr>\n",
       "    <tr>\n",
       "      <th>28</th>\n",
       "      <td>Magnolia</td>\n",
       "    </tr>\n",
       "    <tr>\n",
       "      <th>29</th>\n",
       "      <td>DUCATI</td>\n",
       "    </tr>\n",
       "    <tr>\n",
       "      <th>30</th>\n",
       "      <td>Bonexy</td>\n",
       "    </tr>\n",
       "    <tr>\n",
       "      <th>31</th>\n",
       "      <td>Chevit</td>\n",
       "    </tr>\n",
       "    <tr>\n",
       "      <th>32</th>\n",
       "      <td>SCATCHITE</td>\n",
       "    </tr>\n",
       "    <tr>\n",
       "      <th>33</th>\n",
       "      <td>Bonexy</td>\n",
       "    </tr>\n",
       "    <tr>\n",
       "      <th>34</th>\n",
       "      <td>Echor</td>\n",
       "    </tr>\n",
       "    <tr>\n",
       "      <th>35</th>\n",
       "      <td>SPARX</td>\n",
       "    </tr>\n",
       "    <tr>\n",
       "      <th>36</th>\n",
       "      <td>ROCKFIELD</td>\n",
       "    </tr>\n",
       "    <tr>\n",
       "      <th>37</th>\n",
       "      <td>HOTSTYLE</td>\n",
       "    </tr>\n",
       "    <tr>\n",
       "      <th>38</th>\n",
       "      <td>TR</td>\n",
       "    </tr>\n",
       "    <tr>\n",
       "      <th>39</th>\n",
       "      <td>ROCKFIELD</td>\n",
       "    </tr>\n",
       "  </tbody>\n",
       "</table>\n",
       "</div>"
      ],
      "text/plain": [
       "                BRAND\n",
       "0   French Connection\n",
       "1              ORICUM\n",
       "2              Chevit\n",
       "3              Extoes\n",
       "4        Robbie jones\n",
       "5              Chevit\n",
       "6              Chevit\n",
       "7              ORICUM\n",
       "8              Chevit\n",
       "9        Robbie jones\n",
       "10         Shoes Bank\n",
       "11           Red Rose\n",
       "12            Numenzo\n",
       "13             DUCATI\n",
       "14               PUMA\n",
       "15               aadi\n",
       "16       Stefano Rads\n",
       "17            believe\n",
       "18             Raftar\n",
       "19          well feet\n",
       "20             Chevit\n",
       "21            \"trend\"\n",
       "22              Birde\n",
       "23            Fzzirok\n",
       "24           Magnolia\n",
       "25             T-ROCK\n",
       "26             Chevit\n",
       "27             Chevit\n",
       "28           Magnolia\n",
       "29             DUCATI\n",
       "30             Bonexy\n",
       "31             Chevit\n",
       "32          SCATCHITE\n",
       "33             Bonexy\n",
       "34              Echor\n",
       "35              SPARX\n",
       "36          ROCKFIELD\n",
       "37           HOTSTYLE\n",
       "38                 TR\n",
       "39          ROCKFIELD"
      ]
     },
     "execution_count": 116,
     "metadata": {},
     "output_type": "execute_result"
    }
   ],
   "source": [
    "items"
   ]
  },
  {
   "cell_type": "code",
   "execution_count": 117,
   "metadata": {},
   "outputs": [],
   "source": [
    "next_btn = driver.find_element_by_xpath(\"//a[@class ='_1LKTO3']/span\")\n",
    "next_btn.click()"
   ]
  },
  {
   "cell_type": "code",
   "execution_count": null,
   "metadata": {},
   "outputs": [],
   "source": []
  }
 ],
 "metadata": {
  "kernelspec": {
   "display_name": "Python 3",
   "language": "python",
   "name": "python3"
  },
  "language_info": {
   "codemirror_mode": {
    "name": "ipython",
    "version": 3
   },
   "file_extension": ".py",
   "mimetype": "text/x-python",
   "name": "python",
   "nbconvert_exporter": "python",
   "pygments_lexer": "ipython3",
   "version": "3.7.6"
  }
 },
 "nbformat": 4,
 "nbformat_minor": 4
}
