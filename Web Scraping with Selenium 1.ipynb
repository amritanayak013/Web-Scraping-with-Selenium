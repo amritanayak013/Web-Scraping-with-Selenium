{
 "cells": [
  {
   "cell_type": "code",
   "execution_count": 1,
   "metadata": {},
   "outputs": [
    {
     "name": "stdout",
     "output_type": "stream",
     "text": [
      "Requirement already satisfied: selenium in c:\\users\\amrit\\anaconda3\\lib\\site-packages (3.141.0)\n",
      "Requirement already satisfied: urllib3 in c:\\users\\amrit\\anaconda3\\lib\\site-packages (from selenium) (1.25.8)\n"
     ]
    }
   ],
   "source": [
    "#installing Selenium library\n",
    "! pip install selenium"
   ]
  },
  {
   "cell_type": "raw",
   "metadata": {},
   "source": [
    "Q1.You have to scrape the job-title, job-location, company_name, experience_required. You have to scrape first 10 jobs data."
   ]
  },
  {
   "cell_type": "code",
   "execution_count": 2,
   "metadata": {},
   "outputs": [],
   "source": [
    "import selenium\n",
    "import pandas as pd\n",
    "from selenium import webdriver"
   ]
  },
  {
   "cell_type": "code",
   "execution_count": 3,
   "metadata": {},
   "outputs": [],
   "source": [
    "#connecting to webdriver\n",
    "driver = webdriver.Chrome(r\"C://chromedriver.exe\")"
   ]
  },
  {
   "cell_type": "code",
   "execution_count": 4,
   "metadata": {},
   "outputs": [],
   "source": [
    "driver.get(\"https://www.naukri.com/\")"
   ]
  },
  {
   "cell_type": "code",
   "execution_count": 5,
   "metadata": {},
   "outputs": [],
   "source": [
    "search_job = driver.find_element_by_id ('qsb-keyword-sugg')\n",
    "search_job.send_keys('Data Scientist')\n",
    "search_loc = driver.find_element_by_xpath (\"//input[@id = 'qsb-location-sugg']\")\n",
    "search_loc.send_keys(\"Bangalore\")"
   ]
  },
  {
   "cell_type": "code",
   "execution_count": 1,
   "metadata": {},
   "outputs": [
    {
     "ename": "NameError",
     "evalue": "name 'driver' is not defined",
     "output_type": "error",
     "traceback": [
      "\u001b[1;31m---------------------------------------------------------------------------\u001b[0m",
      "\u001b[1;31mNameError\u001b[0m                                 Traceback (most recent call last)",
      "\u001b[1;32m<ipython-input-1-f9bb3d51846b>\u001b[0m in \u001b[0;36m<module>\u001b[1;34m\u001b[0m\n\u001b[1;32m----> 1\u001b[1;33m \u001b[0msearch_btn\u001b[0m \u001b[1;33m=\u001b[0m \u001b[0mdriver\u001b[0m\u001b[1;33m.\u001b[0m\u001b[0mfind_element_by_xpath\u001b[0m\u001b[1;33m(\u001b[0m\u001b[1;34m\"//span[@class ='search-btn']/button\"\u001b[0m\u001b[1;33m)\u001b[0m\u001b[1;33m\u001b[0m\u001b[1;33m\u001b[0m\u001b[0m\n\u001b[0m\u001b[0;32m      2\u001b[0m \u001b[0msearch_btn\u001b[0m\u001b[1;33m.\u001b[0m\u001b[0mclick\u001b[0m\u001b[1;33m(\u001b[0m\u001b[1;33m)\u001b[0m\u001b[1;33m\u001b[0m\u001b[1;33m\u001b[0m\u001b[0m\n",
      "\u001b[1;31mNameError\u001b[0m: name 'driver' is not defined"
     ]
    }
   ],
   "source": [
    "search_btn = driver.find_element_by_xpath(\"//div[@class ='search-btn']/button\")\n",
    "search_btn.click()"
   ]
  },
  {
   "cell_type": "code",
   "execution_count": 7,
   "metadata": {},
   "outputs": [],
   "source": [
    "url = \"https://www.naukri.com/data-scientist-jobs-in-bangalore?k=data%20scientist&l=bangalore\""
   ]
  },
  {
   "cell_type": "code",
   "execution_count": 8,
   "metadata": {},
   "outputs": [],
   "source": [
    "# lets open the page through web driver\n",
    "driver.get(url)"
   ]
  },
  {
   "cell_type": "code",
   "execution_count": 32,
   "metadata": {},
   "outputs": [],
   "source": [
    "job_titles = []\n",
    "job_location = []\n",
    "company_names = []\n",
    "experience_reqd =[]"
   ]
  },
  {
   "cell_type": "code",
   "execution_count": 33,
   "metadata": {
    "scrolled": true
   },
   "outputs": [
    {
     "data": {
      "text/plain": [
       "[<selenium.webdriver.remote.webelement.WebElement (session=\"d21ca48c082250bb6f1928b5f18a8b21\", element=\"a7d1b184-de11-4194-b90f-ad08bc4f89b3\")>,\n",
       " <selenium.webdriver.remote.webelement.WebElement (session=\"d21ca48c082250bb6f1928b5f18a8b21\", element=\"b2e8b184-778f-4684-b1e1-113f090a58b5\")>,\n",
       " <selenium.webdriver.remote.webelement.WebElement (session=\"d21ca48c082250bb6f1928b5f18a8b21\", element=\"0c08a127-4e43-4be9-92fe-d5520a1dc7a7\")>,\n",
       " <selenium.webdriver.remote.webelement.WebElement (session=\"d21ca48c082250bb6f1928b5f18a8b21\", element=\"6dbddd2b-ae94-4060-9aeb-7a85f2b5fcfe\")>,\n",
       " <selenium.webdriver.remote.webelement.WebElement (session=\"d21ca48c082250bb6f1928b5f18a8b21\", element=\"c8538e25-a4b9-4e4b-a501-c4af9f452047\")>,\n",
       " <selenium.webdriver.remote.webelement.WebElement (session=\"d21ca48c082250bb6f1928b5f18a8b21\", element=\"045585ba-40b7-47c5-ab9b-931c763fe402\")>,\n",
       " <selenium.webdriver.remote.webelement.WebElement (session=\"d21ca48c082250bb6f1928b5f18a8b21\", element=\"2379e8de-3680-4e58-a6cd-3e84f295c8cd\")>,\n",
       " <selenium.webdriver.remote.webelement.WebElement (session=\"d21ca48c082250bb6f1928b5f18a8b21\", element=\"ec9d7371-b5fc-4170-bdd0-38d6df2dee45\")>,\n",
       " <selenium.webdriver.remote.webelement.WebElement (session=\"d21ca48c082250bb6f1928b5f18a8b21\", element=\"6d0d6e83-4e86-4ad5-b15d-be5f8ab06dda\")>,\n",
       " <selenium.webdriver.remote.webelement.WebElement (session=\"d21ca48c082250bb6f1928b5f18a8b21\", element=\"4a37f8b8-6078-4c55-b829-ebe89f6905cb\")>]"
      ]
     },
     "execution_count": 33,
     "metadata": {},
     "output_type": "execute_result"
    }
   ],
   "source": [
    "#lets extract job titles\n",
    "titles_tags = driver.find_elements_by_xpath (\"//a[@class = 'title fw500 ellipsis']\")\n",
    "titles_tags [0:10]"
   ]
  },
  {
   "cell_type": "code",
   "execution_count": 34,
   "metadata": {},
   "outputs": [
    {
     "data": {
      "text/plain": [
       "['Required- Data Scientist (NLP)-Axis Bank - 6 months contract',\n",
       " 'Opportunity For Data Scientist Internship - Bengaluru',\n",
       " 'Data Scientist/ Analyst',\n",
       " 'Data Scientist - Python/ MATLAB/ Machine Learning Algorithms',\n",
       " 'Principal Data Scientist - Machine/Deep Learning - NLP/Tensorflow',\n",
       " 'Data Scientist || Data Analyst || Data science',\n",
       " 'Data Scientist/Senior Data Scientist',\n",
       " 'Data Scientist - Advanced Analytics',\n",
       " 'Data Scientist',\n",
       " 'Senior Data Scientist, , Data Science']"
      ]
     },
     "execution_count": 34,
     "metadata": {},
     "output_type": "execute_result"
    }
   ],
   "source": [
    "for i in  titles_tags:\n",
    "    title = i.text\n",
    "    job_titles.append(title)\n",
    "job_titles [0:10]"
   ]
  },
  {
   "cell_type": "code",
   "execution_count": 35,
   "metadata": {},
   "outputs": [
    {
     "data": {
      "text/plain": [
       "[<selenium.webdriver.remote.webelement.WebElement (session=\"d21ca48c082250bb6f1928b5f18a8b21\", element=\"86c61c5b-0a00-49aa-9879-610d8c9d8f18\")>,\n",
       " <selenium.webdriver.remote.webelement.WebElement (session=\"d21ca48c082250bb6f1928b5f18a8b21\", element=\"61953eff-25b6-4ea8-8b74-b29e4eb73677\")>,\n",
       " <selenium.webdriver.remote.webelement.WebElement (session=\"d21ca48c082250bb6f1928b5f18a8b21\", element=\"04df7529-c154-4482-a54e-77e289611cad\")>,\n",
       " <selenium.webdriver.remote.webelement.WebElement (session=\"d21ca48c082250bb6f1928b5f18a8b21\", element=\"782eac00-e649-4ad1-9101-7c0b19225fa5\")>,\n",
       " <selenium.webdriver.remote.webelement.WebElement (session=\"d21ca48c082250bb6f1928b5f18a8b21\", element=\"0db78d44-d639-413c-a922-7e28dbeb89ad\")>,\n",
       " <selenium.webdriver.remote.webelement.WebElement (session=\"d21ca48c082250bb6f1928b5f18a8b21\", element=\"32138885-8299-40a2-a0d2-6ff63fdbac39\")>,\n",
       " <selenium.webdriver.remote.webelement.WebElement (session=\"d21ca48c082250bb6f1928b5f18a8b21\", element=\"47e85252-fc93-4f8f-a0c7-5649051cd66d\")>,\n",
       " <selenium.webdriver.remote.webelement.WebElement (session=\"d21ca48c082250bb6f1928b5f18a8b21\", element=\"7168b53d-76b5-44b6-9155-fcfaa208df43\")>,\n",
       " <selenium.webdriver.remote.webelement.WebElement (session=\"d21ca48c082250bb6f1928b5f18a8b21\", element=\"72f3861c-038a-45ca-a5ea-12e7f4c58f84\")>,\n",
       " <selenium.webdriver.remote.webelement.WebElement (session=\"d21ca48c082250bb6f1928b5f18a8b21\", element=\"ebf9f1bc-3525-4579-9990-9ee38a8bd13b\")>]"
      ]
     },
     "execution_count": 35,
     "metadata": {},
     "output_type": "execute_result"
    }
   ],
   "source": [
    "#lets extract job locations\n",
    "locations_tags = driver.find_elements_by_xpath (\"//li[@class = 'fleft grey-text br2 placeHolderLi location']\")\n",
    "locations_tags [0:10]"
   ]
  },
  {
   "cell_type": "code",
   "execution_count": 36,
   "metadata": {},
   "outputs": [
    {
     "data": {
      "text/plain": [
       "['Kolkata, New Delhi, Hyderabad/Secunderabad, Pune, Chennai, Bangalore/Bengaluru, Mumbai (All Areas)',\n",
       " 'Bangalore/Bengaluru',\n",
       " 'Bangalore/Bengaluru',\n",
       " 'Bangalore/Bengaluru',\n",
       " 'Bangalore/Bengaluru',\n",
       " 'Navi Mumbai, Bangalore/Bengaluru',\n",
       " 'Hyderabad/Secunderabad, Pune, Chennai, Bangalore/Bengaluru, Mumbai (All Areas)',\n",
       " 'Bangalore/Bengaluru',\n",
       " 'Bangalore/Bengaluru',\n",
       " 'Bangalore/Bengaluru']"
      ]
     },
     "execution_count": 36,
     "metadata": {},
     "output_type": "execute_result"
    }
   ],
   "source": [
    "for i in  locations_tags:\n",
    "    location = i.text\n",
    "    job_location.append(location)\n",
    "job_location [0:10]"
   ]
  },
  {
   "cell_type": "code",
   "execution_count": 37,
   "metadata": {},
   "outputs": [
    {
     "data": {
      "text/plain": [
       "[<selenium.webdriver.remote.webelement.WebElement (session=\"d21ca48c082250bb6f1928b5f18a8b21\", element=\"6805a0f4-926f-4c5b-b934-28a61d66d7ce\")>,\n",
       " <selenium.webdriver.remote.webelement.WebElement (session=\"d21ca48c082250bb6f1928b5f18a8b21\", element=\"a900a0c3-c60b-46a3-a595-b2eca1b65c03\")>,\n",
       " <selenium.webdriver.remote.webelement.WebElement (session=\"d21ca48c082250bb6f1928b5f18a8b21\", element=\"abe512b2-0808-4b72-9c3f-578f2fbd0325\")>,\n",
       " <selenium.webdriver.remote.webelement.WebElement (session=\"d21ca48c082250bb6f1928b5f18a8b21\", element=\"6e0ec3c8-afb8-4f81-b4bc-b755d77aa33d\")>,\n",
       " <selenium.webdriver.remote.webelement.WebElement (session=\"d21ca48c082250bb6f1928b5f18a8b21\", element=\"62cde280-c97d-405c-9a1b-dd4e17b156f1\")>,\n",
       " <selenium.webdriver.remote.webelement.WebElement (session=\"d21ca48c082250bb6f1928b5f18a8b21\", element=\"739d69dd-8cf5-43c0-a98b-f0b957716cfb\")>,\n",
       " <selenium.webdriver.remote.webelement.WebElement (session=\"d21ca48c082250bb6f1928b5f18a8b21\", element=\"d0f5da4a-0487-42de-8783-6bd371abac01\")>,\n",
       " <selenium.webdriver.remote.webelement.WebElement (session=\"d21ca48c082250bb6f1928b5f18a8b21\", element=\"7a9bb27d-ae53-46a1-a582-1dbb6ef4b8c8\")>,\n",
       " <selenium.webdriver.remote.webelement.WebElement (session=\"d21ca48c082250bb6f1928b5f18a8b21\", element=\"ddee4035-b4ec-411b-bf62-1fb45b2700b3\")>,\n",
       " <selenium.webdriver.remote.webelement.WebElement (session=\"d21ca48c082250bb6f1928b5f18a8b21\", element=\"234584fe-abb4-486a-b415-d6705335b377\")>]"
      ]
     },
     "execution_count": 37,
     "metadata": {},
     "output_type": "execute_result"
    }
   ],
   "source": [
    "#lets extract company names\n",
    "companies_tags = driver.find_elements_by_xpath (\"//a[@class = 'subTitle ellipsis fleft']\")\n",
    "companies_tags [0:10]"
   ]
  },
  {
   "cell_type": "code",
   "execution_count": 38,
   "metadata": {},
   "outputs": [
    {
     "data": {
      "text/plain": [
       "['Axis Bank Limited',\n",
       " 'Corner Stone Solutions',\n",
       " 'Becton Dickinson India Pvt. Ltd',\n",
       " 'Wrackle Technologies Pvt Ltd',\n",
       " 'Fidius advisory',\n",
       " 'Inspiration Manpower Consultancy Pvt. Ltd.',\n",
       " 'GANIT BUSINESS SOLUTIONS PRIVATE LIMITED',\n",
       " 'IBM India Pvt. Limited',\n",
       " 'Sony India Software Center',\n",
       " 'Visa Inc.']"
      ]
     },
     "execution_count": 38,
     "metadata": {},
     "output_type": "execute_result"
    }
   ],
   "source": [
    "for i in  companies_tags:\n",
    "    company = i.text\n",
    "    company_names.append(company)\n",
    "company_names [0:10]"
   ]
  },
  {
   "cell_type": "code",
   "execution_count": 39,
   "metadata": {},
   "outputs": [
    {
     "data": {
      "text/plain": [
       "[<selenium.webdriver.remote.webelement.WebElement (session=\"d21ca48c082250bb6f1928b5f18a8b21\", element=\"79eb3d17-ae05-4509-9451-deac3e9fcc3a\")>,\n",
       " <selenium.webdriver.remote.webelement.WebElement (session=\"d21ca48c082250bb6f1928b5f18a8b21\", element=\"8d96bebc-00e3-47b6-818b-7aac51336c01\")>,\n",
       " <selenium.webdriver.remote.webelement.WebElement (session=\"d21ca48c082250bb6f1928b5f18a8b21\", element=\"4e602ed6-b416-4620-a257-fa58709d7917\")>,\n",
       " <selenium.webdriver.remote.webelement.WebElement (session=\"d21ca48c082250bb6f1928b5f18a8b21\", element=\"5eb4b224-ab22-4bbe-94e8-ac24bb0b3628\")>,\n",
       " <selenium.webdriver.remote.webelement.WebElement (session=\"d21ca48c082250bb6f1928b5f18a8b21\", element=\"cf6ab7f5-c3c0-4052-8e29-74b8ccf64a55\")>,\n",
       " <selenium.webdriver.remote.webelement.WebElement (session=\"d21ca48c082250bb6f1928b5f18a8b21\", element=\"45a38b99-320a-4d77-94ac-55ff9010add9\")>,\n",
       " <selenium.webdriver.remote.webelement.WebElement (session=\"d21ca48c082250bb6f1928b5f18a8b21\", element=\"9e8abce1-391c-413f-a088-0d8d09417696\")>,\n",
       " <selenium.webdriver.remote.webelement.WebElement (session=\"d21ca48c082250bb6f1928b5f18a8b21\", element=\"88ae27d9-f2fe-423d-9b04-88d2ccdbe517\")>,\n",
       " <selenium.webdriver.remote.webelement.WebElement (session=\"d21ca48c082250bb6f1928b5f18a8b21\", element=\"ced20555-ba02-4493-bb2b-4a4e285972f3\")>,\n",
       " <selenium.webdriver.remote.webelement.WebElement (session=\"d21ca48c082250bb6f1928b5f18a8b21\", element=\"15663b69-ad9f-4330-98c1-ee3ac697ff3d\")>]"
      ]
     },
     "execution_count": 39,
     "metadata": {},
     "output_type": "execute_result"
    }
   ],
   "source": [
    "#lets extract experience required\n",
    "experiences_tags = driver.find_elements_by_xpath (\"//li[@class = 'fleft grey-text br2 placeHolderLi experience']\")\n",
    "experiences_tags [0:10]"
   ]
  },
  {
   "cell_type": "code",
   "execution_count": 40,
   "metadata": {},
   "outputs": [
    {
     "data": {
      "text/plain": [
       "['4-9 Yrs',\n",
       " '0-1 Yrs',\n",
       " '5-10 Yrs',\n",
       " '3-8 Yrs',\n",
       " '8-13 Yrs',\n",
       " '6-11 Yrs',\n",
       " '4-8 Yrs',\n",
       " '10-15 Yrs',\n",
       " '4-9 Yrs',\n",
       " '6-10 Yrs']"
      ]
     },
     "execution_count": 40,
     "metadata": {},
     "output_type": "execute_result"
    }
   ],
   "source": [
    "for i in experiences_tags:\n",
    "    experience = i.text\n",
    "    experience_reqd.append(experience)\n",
    "experience_reqd [0:10]"
   ]
  },
  {
   "cell_type": "code",
   "execution_count": 41,
   "metadata": {},
   "outputs": [
    {
     "name": "stdout",
     "output_type": "stream",
     "text": [
      "20 20 20 20\n"
     ]
    }
   ],
   "source": [
    "print (len (job_titles),len (job_location),len (company_names),len (experience_reqd))"
   ]
  },
  {
   "cell_type": "code",
   "execution_count": 19,
   "metadata": {},
   "outputs": [],
   "source": [
    "#importing pandas\n",
    "jobs = pd.DataFrame ({})\n",
    "jobs ['TITLE'] = job_titles\n",
    "jobs ['LOCATION'] = job_location\n",
    "jobs ['COMPANY'] = company_names\n",
    "jobs ['EXPERIENCE'] = experience_reqd"
   ]
  },
  {
   "cell_type": "code",
   "execution_count": 20,
   "metadata": {},
   "outputs": [
    {
     "data": {
      "text/html": [
       "<div>\n",
       "<style scoped>\n",
       "    .dataframe tbody tr th:only-of-type {\n",
       "        vertical-align: middle;\n",
       "    }\n",
       "\n",
       "    .dataframe tbody tr th {\n",
       "        vertical-align: top;\n",
       "    }\n",
       "\n",
       "    .dataframe thead th {\n",
       "        text-align: right;\n",
       "    }\n",
       "</style>\n",
       "<table border=\"1\" class=\"dataframe\">\n",
       "  <thead>\n",
       "    <tr style=\"text-align: right;\">\n",
       "      <th></th>\n",
       "      <th>TITLE</th>\n",
       "      <th>LOCATION</th>\n",
       "      <th>COMPANY</th>\n",
       "      <th>EXPERIENCE</th>\n",
       "    </tr>\n",
       "  </thead>\n",
       "  <tbody>\n",
       "    <tr>\n",
       "      <th>0</th>\n",
       "      <td>Required- Data Scientist (NLP)-Axis Bank - 6 m...</td>\n",
       "      <td>Kolkata, New Delhi, Hyderabad/Secunderabad, Pu...</td>\n",
       "      <td>Axis Bank Limited</td>\n",
       "      <td>4-9 Yrs</td>\n",
       "    </tr>\n",
       "    <tr>\n",
       "      <th>1</th>\n",
       "      <td>Opportunity For Data Scientist Internship - Be...</td>\n",
       "      <td>Bangalore/Bengaluru</td>\n",
       "      <td>Corner Stone Solutions</td>\n",
       "      <td>0-1 Yrs</td>\n",
       "    </tr>\n",
       "    <tr>\n",
       "      <th>2</th>\n",
       "      <td>Data Scientist/ Analyst</td>\n",
       "      <td>Bangalore/Bengaluru</td>\n",
       "      <td>Becton Dickinson India Pvt. Ltd</td>\n",
       "      <td>5-10 Yrs</td>\n",
       "    </tr>\n",
       "    <tr>\n",
       "      <th>3</th>\n",
       "      <td>Data Scientist - Python/ MATLAB/ Machine Learn...</td>\n",
       "      <td>Bangalore/Bengaluru</td>\n",
       "      <td>Wrackle Technologies Pvt Ltd</td>\n",
       "      <td>3-8 Yrs</td>\n",
       "    </tr>\n",
       "    <tr>\n",
       "      <th>4</th>\n",
       "      <td>Principal Data Scientist - Machine/Deep Learni...</td>\n",
       "      <td>Bangalore/Bengaluru</td>\n",
       "      <td>Fidius advisory</td>\n",
       "      <td>8-13 Yrs</td>\n",
       "    </tr>\n",
       "    <tr>\n",
       "      <th>5</th>\n",
       "      <td>Data Scientist || Data Analyst || Data science</td>\n",
       "      <td>Navi Mumbai, Bangalore/Bengaluru</td>\n",
       "      <td>Inspiration Manpower Consultancy Pvt. Ltd.</td>\n",
       "      <td>6-11 Yrs</td>\n",
       "    </tr>\n",
       "    <tr>\n",
       "      <th>6</th>\n",
       "      <td>Data Scientist/Senior Data Scientist</td>\n",
       "      <td>Hyderabad/Secunderabad, Pune, Chennai, Bangalo...</td>\n",
       "      <td>GANIT BUSINESS SOLUTIONS PRIVATE LIMITED</td>\n",
       "      <td>4-8 Yrs</td>\n",
       "    </tr>\n",
       "    <tr>\n",
       "      <th>7</th>\n",
       "      <td>Data Scientist - Advanced Analytics</td>\n",
       "      <td>Bangalore/Bengaluru</td>\n",
       "      <td>IBM India Pvt. Limited</td>\n",
       "      <td>10-15 Yrs</td>\n",
       "    </tr>\n",
       "    <tr>\n",
       "      <th>8</th>\n",
       "      <td>Data Scientist</td>\n",
       "      <td>Bangalore/Bengaluru</td>\n",
       "      <td>Sony India Software Center</td>\n",
       "      <td>4-9 Yrs</td>\n",
       "    </tr>\n",
       "    <tr>\n",
       "      <th>9</th>\n",
       "      <td>Senior Data Scientist, , Data Science</td>\n",
       "      <td>Bangalore/Bengaluru</td>\n",
       "      <td>Visa Inc.</td>\n",
       "      <td>6-10 Yrs</td>\n",
       "    </tr>\n",
       "    <tr>\n",
       "      <th>10</th>\n",
       "      <td>Data Scientist/Data Analyst-immediate</td>\n",
       "      <td>Hyderabad/Secunderabad, Pune, Chennai, Bangalo...</td>\n",
       "      <td>Inflexion Analytix Private Limited</td>\n",
       "      <td>0-2 Yrs</td>\n",
       "    </tr>\n",
       "    <tr>\n",
       "      <th>11</th>\n",
       "      <td>Jr. Data Scientist</td>\n",
       "      <td>Bangalore/Bengaluru</td>\n",
       "      <td>TEOCO Software Pvt Ltd</td>\n",
       "      <td>1-3 Yrs</td>\n",
       "    </tr>\n",
       "    <tr>\n",
       "      <th>12</th>\n",
       "      <td>Business Consultant Data Scientist</td>\n",
       "      <td>Hyderabad/Secunderabad, Chennai, Bangalore/Ben...</td>\n",
       "      <td>StriveX Consulting Pvt. Ltd</td>\n",
       "      <td>2-4 Yrs</td>\n",
       "    </tr>\n",
       "    <tr>\n",
       "      <th>13</th>\n",
       "      <td>Senior Data Scientist (Machine Vision solutions)</td>\n",
       "      <td>Bangalore/Bengaluru</td>\n",
       "      <td>ONX Software Systems Pvt Ltd</td>\n",
       "      <td>5-9 Yrs</td>\n",
       "    </tr>\n",
       "    <tr>\n",
       "      <th>14</th>\n",
       "      <td>Senior Data Scientist/Manager Data Scientist</td>\n",
       "      <td>Noida, Gurgaon/Gurugram, Bangalore/Bengaluru</td>\n",
       "      <td>Novitas Infotech</td>\n",
       "      <td>7-12 Yrs</td>\n",
       "    </tr>\n",
       "    <tr>\n",
       "      <th>15</th>\n",
       "      <td>Eton Solutions- (A Fintech Company)-Data Scien...</td>\n",
       "      <td>Bangalore/Bengaluru</td>\n",
       "      <td>ETON SOLUTIONS AND TECHNOLOGIES INDIA LLP</td>\n",
       "      <td>7-12 Yrs</td>\n",
       "    </tr>\n",
       "    <tr>\n",
       "      <th>16</th>\n",
       "      <td>Hiring Data Scientist with 3+ Years of relevan...</td>\n",
       "      <td>Bangalore/Bengaluru</td>\n",
       "      <td>COURSE5 INTELLIGENCE PRIVATE LIMITED</td>\n",
       "      <td>4-7 Yrs</td>\n",
       "    </tr>\n",
       "    <tr>\n",
       "      <th>17</th>\n",
       "      <td>Data Scientist Entry Level</td>\n",
       "      <td>Bangalore/Bengaluru</td>\n",
       "      <td>NeenOpal Intelligent Solutions Pvt. Ltd.</td>\n",
       "      <td>2-4 Yrs</td>\n",
       "    </tr>\n",
       "    <tr>\n",
       "      <th>18</th>\n",
       "      <td>Staff Data Scientist</td>\n",
       "      <td>Bangalore/Bengaluru</td>\n",
       "      <td>Walmart Labs</td>\n",
       "      <td>8-10 Yrs</td>\n",
       "    </tr>\n",
       "    <tr>\n",
       "      <th>19</th>\n",
       "      <td>Senior Data Scientist - Analytics</td>\n",
       "      <td>Bangalore/Bengaluru</td>\n",
       "      <td>Landmark Online</td>\n",
       "      <td>5-7 Yrs</td>\n",
       "    </tr>\n",
       "  </tbody>\n",
       "</table>\n",
       "</div>"
      ],
      "text/plain": [
       "                                                TITLE  \\\n",
       "0   Required- Data Scientist (NLP)-Axis Bank - 6 m...   \n",
       "1   Opportunity For Data Scientist Internship - Be...   \n",
       "2                             Data Scientist/ Analyst   \n",
       "3   Data Scientist - Python/ MATLAB/ Machine Learn...   \n",
       "4   Principal Data Scientist - Machine/Deep Learni...   \n",
       "5      Data Scientist || Data Analyst || Data science   \n",
       "6                Data Scientist/Senior Data Scientist   \n",
       "7                 Data Scientist - Advanced Analytics   \n",
       "8                                      Data Scientist   \n",
       "9               Senior Data Scientist, , Data Science   \n",
       "10              Data Scientist/Data Analyst-immediate   \n",
       "11                                 Jr. Data Scientist   \n",
       "12                 Business Consultant Data Scientist   \n",
       "13   Senior Data Scientist (Machine Vision solutions)   \n",
       "14       Senior Data Scientist/Manager Data Scientist   \n",
       "15  Eton Solutions- (A Fintech Company)-Data Scien...   \n",
       "16  Hiring Data Scientist with 3+ Years of relevan...   \n",
       "17                         Data Scientist Entry Level   \n",
       "18                               Staff Data Scientist   \n",
       "19                  Senior Data Scientist - Analytics   \n",
       "\n",
       "                                             LOCATION  \\\n",
       "0   Kolkata, New Delhi, Hyderabad/Secunderabad, Pu...   \n",
       "1                                 Bangalore/Bengaluru   \n",
       "2                                 Bangalore/Bengaluru   \n",
       "3                                 Bangalore/Bengaluru   \n",
       "4                                 Bangalore/Bengaluru   \n",
       "5                    Navi Mumbai, Bangalore/Bengaluru   \n",
       "6   Hyderabad/Secunderabad, Pune, Chennai, Bangalo...   \n",
       "7                                 Bangalore/Bengaluru   \n",
       "8                                 Bangalore/Bengaluru   \n",
       "9                                 Bangalore/Bengaluru   \n",
       "10  Hyderabad/Secunderabad, Pune, Chennai, Bangalo...   \n",
       "11                                Bangalore/Bengaluru   \n",
       "12  Hyderabad/Secunderabad, Chennai, Bangalore/Ben...   \n",
       "13                                Bangalore/Bengaluru   \n",
       "14       Noida, Gurgaon/Gurugram, Bangalore/Bengaluru   \n",
       "15                                Bangalore/Bengaluru   \n",
       "16                                Bangalore/Bengaluru   \n",
       "17                                Bangalore/Bengaluru   \n",
       "18                                Bangalore/Bengaluru   \n",
       "19                                Bangalore/Bengaluru   \n",
       "\n",
       "                                       COMPANY EXPERIENCE  \n",
       "0                            Axis Bank Limited    4-9 Yrs  \n",
       "1                       Corner Stone Solutions    0-1 Yrs  \n",
       "2              Becton Dickinson India Pvt. Ltd   5-10 Yrs  \n",
       "3                 Wrackle Technologies Pvt Ltd    3-8 Yrs  \n",
       "4                              Fidius advisory   8-13 Yrs  \n",
       "5   Inspiration Manpower Consultancy Pvt. Ltd.   6-11 Yrs  \n",
       "6     GANIT BUSINESS SOLUTIONS PRIVATE LIMITED    4-8 Yrs  \n",
       "7                       IBM India Pvt. Limited  10-15 Yrs  \n",
       "8                   Sony India Software Center    4-9 Yrs  \n",
       "9                                    Visa Inc.   6-10 Yrs  \n",
       "10          Inflexion Analytix Private Limited    0-2 Yrs  \n",
       "11                      TEOCO Software Pvt Ltd    1-3 Yrs  \n",
       "12                 StriveX Consulting Pvt. Ltd    2-4 Yrs  \n",
       "13                ONX Software Systems Pvt Ltd    5-9 Yrs  \n",
       "14                            Novitas Infotech   7-12 Yrs  \n",
       "15   ETON SOLUTIONS AND TECHNOLOGIES INDIA LLP   7-12 Yrs  \n",
       "16        COURSE5 INTELLIGENCE PRIVATE LIMITED    4-7 Yrs  \n",
       "17    NeenOpal Intelligent Solutions Pvt. Ltd.    2-4 Yrs  \n",
       "18                                Walmart Labs   8-10 Yrs  \n",
       "19                             Landmark Online    5-7 Yrs  "
      ]
     },
     "execution_count": 20,
     "metadata": {},
     "output_type": "execute_result"
    }
   ],
   "source": [
    "jobs"
   ]
  },
  {
   "cell_type": "raw",
   "metadata": {},
   "source": [
    "Q2. You have to scrape the job-title, job-location, company_name, full job-description."
   ]
  },
  {
   "cell_type": "code",
   "execution_count": 42,
   "metadata": {},
   "outputs": [],
   "source": [
    "job_descriptions = []"
   ]
  },
  {
   "cell_type": "code",
   "execution_count": 43,
   "metadata": {},
   "outputs": [
    {
     "data": {
      "text/plain": [
       "[<selenium.webdriver.remote.webelement.WebElement (session=\"d21ca48c082250bb6f1928b5f18a8b21\", element=\"eddce2cc-00c1-4fb8-9747-7809081c91e5\")>,\n",
       " <selenium.webdriver.remote.webelement.WebElement (session=\"d21ca48c082250bb6f1928b5f18a8b21\", element=\"17711edc-8919-4a80-bb8b-5c7b9a2f7dbe\")>,\n",
       " <selenium.webdriver.remote.webelement.WebElement (session=\"d21ca48c082250bb6f1928b5f18a8b21\", element=\"c824d1ef-7c7d-4f52-9ef8-0cf96e1a6219\")>,\n",
       " <selenium.webdriver.remote.webelement.WebElement (session=\"d21ca48c082250bb6f1928b5f18a8b21\", element=\"7fee30e4-989f-4291-a7ac-2fab3c74237a\")>,\n",
       " <selenium.webdriver.remote.webelement.WebElement (session=\"d21ca48c082250bb6f1928b5f18a8b21\", element=\"27041a57-e38b-41f5-9728-a876bec2a257\")>,\n",
       " <selenium.webdriver.remote.webelement.WebElement (session=\"d21ca48c082250bb6f1928b5f18a8b21\", element=\"5d5a51b9-f799-4205-a45f-d86e583d8d86\")>,\n",
       " <selenium.webdriver.remote.webelement.WebElement (session=\"d21ca48c082250bb6f1928b5f18a8b21\", element=\"3b864c1d-e101-446a-b487-fd2674dabdae\")>,\n",
       " <selenium.webdriver.remote.webelement.WebElement (session=\"d21ca48c082250bb6f1928b5f18a8b21\", element=\"3b7f4b24-f34a-4bb2-8e3e-8fc39ebea221\")>,\n",
       " <selenium.webdriver.remote.webelement.WebElement (session=\"d21ca48c082250bb6f1928b5f18a8b21\", element=\"b9b9757b-59b8-4fb0-93f9-018bd5a2f6db\")>,\n",
       " <selenium.webdriver.remote.webelement.WebElement (session=\"d21ca48c082250bb6f1928b5f18a8b21\", element=\"ead8e027-d134-45de-ad9e-9fb00c68b180\")>]"
      ]
     },
     "execution_count": 43,
     "metadata": {},
     "output_type": "execute_result"
    }
   ],
   "source": [
    "#lets extract job description\n",
    "descriptions_tags = driver.find_elements_by_xpath (\"//div[@class = 'job-description fs12 grey-text']\")\n",
    "descriptions_tags [0:10]"
   ]
  },
  {
   "cell_type": "code",
   "execution_count": 44,
   "metadata": {},
   "outputs": [
    {
     "data": {
      "text/plain": [
       "['Work from HomeThe candidate should be an expert at analysing large amounts of raw infor...',\n",
       " 'Looking for IIT, IIIT IISc, NIT, BIT & Equivalent colleges (Preferred)Flexibility in wo...',\n",
       " 'Minimum 2 years of relevant work experience PreferredExperience with Python, R, Hadoop,...',\n",
       " 'BS/ MS/ PhD in Computer Science, Statistics, Applied Math, or related areas from Premie...',\n",
       " 'Master, Post-graduate or PhD in computer science, machine learning, information retriev...',\n",
       " 'Must HaveGood to haveHuman Resources experienceAdditional Accenture HR systems experience',\n",
       " 'Bachelors / Masters degree in Engineering / Technology or MBA from Tier-1 B School orMi...',\n",
       " 'IntroductionAs a Data Scientist at IBM, you will help transform our clients’ data into ...',\n",
       " 'Sony is looking for a Data Scientist(Sr. Software Engineer)to analyze large amounts of ...',\n",
       " 'We are seeking an innovative and analytical thinker to support our Data Science team in...']"
      ]
     },
     "execution_count": 44,
     "metadata": {},
     "output_type": "execute_result"
    }
   ],
   "source": [
    "for i in descriptions_tags:\n",
    "    description = i.text\n",
    "    job_descriptions.append(description)\n",
    "job_descriptions [0:10]"
   ]
  },
  {
   "cell_type": "code",
   "execution_count": 45,
   "metadata": {},
   "outputs": [
    {
     "name": "stdout",
     "output_type": "stream",
     "text": [
      "20\n"
     ]
    }
   ],
   "source": [
    "print (len (job_descriptions))"
   ]
  },
  {
   "cell_type": "code",
   "execution_count": 46,
   "metadata": {},
   "outputs": [],
   "source": [
    "#importing pandas\n",
    "jobs = pd.DataFrame ({})\n",
    "jobs ['TITLE'] = job_titles\n",
    "jobs ['LOCATION'] = job_location\n",
    "jobs ['COMPANY'] = company_names\n",
    "jobs ['EXPERIENCE'] = experience_reqd\n",
    "jobs ['DESCRIPTION'] = job_descriptions"
   ]
  },
  {
   "cell_type": "code",
   "execution_count": 47,
   "metadata": {},
   "outputs": [
    {
     "data": {
      "text/html": [
       "<div>\n",
       "<style scoped>\n",
       "    .dataframe tbody tr th:only-of-type {\n",
       "        vertical-align: middle;\n",
       "    }\n",
       "\n",
       "    .dataframe tbody tr th {\n",
       "        vertical-align: top;\n",
       "    }\n",
       "\n",
       "    .dataframe thead th {\n",
       "        text-align: right;\n",
       "    }\n",
       "</style>\n",
       "<table border=\"1\" class=\"dataframe\">\n",
       "  <thead>\n",
       "    <tr style=\"text-align: right;\">\n",
       "      <th></th>\n",
       "      <th>TITLE</th>\n",
       "      <th>LOCATION</th>\n",
       "      <th>COMPANY</th>\n",
       "      <th>EXPERIENCE</th>\n",
       "      <th>DESCRIPTION</th>\n",
       "    </tr>\n",
       "  </thead>\n",
       "  <tbody>\n",
       "    <tr>\n",
       "      <th>0</th>\n",
       "      <td>Required- Data Scientist (NLP)-Axis Bank - 6 m...</td>\n",
       "      <td>Kolkata, New Delhi, Hyderabad/Secunderabad, Pu...</td>\n",
       "      <td>Axis Bank Limited</td>\n",
       "      <td>4-9 Yrs</td>\n",
       "      <td>Work from HomeThe candidate should be an exper...</td>\n",
       "    </tr>\n",
       "    <tr>\n",
       "      <th>1</th>\n",
       "      <td>Opportunity For Data Scientist Internship - Be...</td>\n",
       "      <td>Bangalore/Bengaluru</td>\n",
       "      <td>Corner Stone Solutions</td>\n",
       "      <td>0-1 Yrs</td>\n",
       "      <td>Looking for IIT, IIIT IISc, NIT, BIT &amp; Equival...</td>\n",
       "    </tr>\n",
       "    <tr>\n",
       "      <th>2</th>\n",
       "      <td>Data Scientist/ Analyst</td>\n",
       "      <td>Bangalore/Bengaluru</td>\n",
       "      <td>Becton Dickinson India Pvt. Ltd</td>\n",
       "      <td>5-10 Yrs</td>\n",
       "      <td>Minimum 2 years of relevant work experience Pr...</td>\n",
       "    </tr>\n",
       "    <tr>\n",
       "      <th>3</th>\n",
       "      <td>Data Scientist - Python/ MATLAB/ Machine Learn...</td>\n",
       "      <td>Bangalore/Bengaluru</td>\n",
       "      <td>Wrackle Technologies Pvt Ltd</td>\n",
       "      <td>3-8 Yrs</td>\n",
       "      <td>BS/ MS/ PhD in Computer Science, Statistics, A...</td>\n",
       "    </tr>\n",
       "    <tr>\n",
       "      <th>4</th>\n",
       "      <td>Principal Data Scientist - Machine/Deep Learni...</td>\n",
       "      <td>Bangalore/Bengaluru</td>\n",
       "      <td>Fidius advisory</td>\n",
       "      <td>8-13 Yrs</td>\n",
       "      <td>Master, Post-graduate or PhD in computer scien...</td>\n",
       "    </tr>\n",
       "    <tr>\n",
       "      <th>5</th>\n",
       "      <td>Data Scientist || Data Analyst || Data science</td>\n",
       "      <td>Navi Mumbai, Bangalore/Bengaluru</td>\n",
       "      <td>Inspiration Manpower Consultancy Pvt. Ltd.</td>\n",
       "      <td>6-11 Yrs</td>\n",
       "      <td>Must HaveGood to haveHuman Resources experienc...</td>\n",
       "    </tr>\n",
       "    <tr>\n",
       "      <th>6</th>\n",
       "      <td>Data Scientist/Senior Data Scientist</td>\n",
       "      <td>Hyderabad/Secunderabad, Pune, Chennai, Bangalo...</td>\n",
       "      <td>GANIT BUSINESS SOLUTIONS PRIVATE LIMITED</td>\n",
       "      <td>4-8 Yrs</td>\n",
       "      <td>Bachelors / Masters degree in Engineering / Te...</td>\n",
       "    </tr>\n",
       "    <tr>\n",
       "      <th>7</th>\n",
       "      <td>Data Scientist - Advanced Analytics</td>\n",
       "      <td>Bangalore/Bengaluru</td>\n",
       "      <td>IBM India Pvt. Limited</td>\n",
       "      <td>10-15 Yrs</td>\n",
       "      <td>IntroductionAs a Data Scientist at IBM, you wi...</td>\n",
       "    </tr>\n",
       "    <tr>\n",
       "      <th>8</th>\n",
       "      <td>Data Scientist</td>\n",
       "      <td>Bangalore/Bengaluru</td>\n",
       "      <td>Sony India Software Center</td>\n",
       "      <td>4-9 Yrs</td>\n",
       "      <td>Sony is looking for a Data Scientist(Sr. Softw...</td>\n",
       "    </tr>\n",
       "    <tr>\n",
       "      <th>9</th>\n",
       "      <td>Senior Data Scientist, , Data Science</td>\n",
       "      <td>Bangalore/Bengaluru</td>\n",
       "      <td>Visa Inc.</td>\n",
       "      <td>6-10 Yrs</td>\n",
       "      <td>We are seeking an innovative and analytical th...</td>\n",
       "    </tr>\n",
       "    <tr>\n",
       "      <th>10</th>\n",
       "      <td>Data Scientist/Data Analyst-immediate</td>\n",
       "      <td>Hyderabad/Secunderabad, Pune, Chennai, Bangalo...</td>\n",
       "      <td>Inflexion Analytix Private Limited</td>\n",
       "      <td>0-2 Yrs</td>\n",
       "      <td>In case you are trying to shift your career to...</td>\n",
       "    </tr>\n",
       "    <tr>\n",
       "      <th>11</th>\n",
       "      <td>Jr. Data Scientist</td>\n",
       "      <td>Bangalore/Bengaluru</td>\n",
       "      <td>TEOCO Software Pvt Ltd</td>\n",
       "      <td>1-3 Yrs</td>\n",
       "      <td>Roles and Responsibilities TEOCO’s Bangalore a...</td>\n",
       "    </tr>\n",
       "    <tr>\n",
       "      <th>12</th>\n",
       "      <td>Business Consultant Data Scientist</td>\n",
       "      <td>Hyderabad/Secunderabad, Chennai, Bangalore/Ben...</td>\n",
       "      <td>StriveX Consulting Pvt. Ltd</td>\n",
       "      <td>2-4 Yrs</td>\n",
       "      <td>Minimum 3-4 years of experience working closel...</td>\n",
       "    </tr>\n",
       "    <tr>\n",
       "      <th>13</th>\n",
       "      <td>Senior Data Scientist (Machine Vision solutions)</td>\n",
       "      <td>Bangalore/Bengaluru</td>\n",
       "      <td>ONX Software Systems Pvt Ltd</td>\n",
       "      <td>5-9 Yrs</td>\n",
       "      <td>Senior Data Scientist (Machine Vision solution...</td>\n",
       "    </tr>\n",
       "    <tr>\n",
       "      <th>14</th>\n",
       "      <td>Senior Data Scientist/Manager Data Scientist</td>\n",
       "      <td>Noida, Gurgaon/Gurugram, Bangalore/Bengaluru</td>\n",
       "      <td>Novitas Infotech</td>\n",
       "      <td>7-12 Yrs</td>\n",
       "      <td>You should be comfortable managing work plans,...</td>\n",
       "    </tr>\n",
       "    <tr>\n",
       "      <th>15</th>\n",
       "      <td>Eton Solutions- (A Fintech Company)-Data Scien...</td>\n",
       "      <td>Bangalore/Bengaluru</td>\n",
       "      <td>ETON SOLUTIONS AND TECHNOLOGIES INDIA LLP</td>\n",
       "      <td>7-12 Yrs</td>\n",
       "      <td>Dear Candidate, We have an open position for t...</td>\n",
       "    </tr>\n",
       "    <tr>\n",
       "      <th>16</th>\n",
       "      <td>Hiring Data Scientist with 3+ Years of relevan...</td>\n",
       "      <td>Bangalore/Bengaluru</td>\n",
       "      <td>COURSE5 INTELLIGENCE PRIVATE LIMITED</td>\n",
       "      <td>4-7 Yrs</td>\n",
       "      <td>Bachelors degree in Engineering or equivalentR...</td>\n",
       "    </tr>\n",
       "    <tr>\n",
       "      <th>17</th>\n",
       "      <td>Data Scientist Entry Level</td>\n",
       "      <td>Bangalore/Bengaluru</td>\n",
       "      <td>NeenOpal Intelligent Solutions Pvt. Ltd.</td>\n",
       "      <td>2-4 Yrs</td>\n",
       "      <td>Should have strong mathematical background ana...</td>\n",
       "    </tr>\n",
       "    <tr>\n",
       "      <th>18</th>\n",
       "      <td>Staff Data Scientist</td>\n",
       "      <td>Bangalore/Bengaluru</td>\n",
       "      <td>Walmart Labs</td>\n",
       "      <td>8-10 Yrs</td>\n",
       "      <td>BE / BTech from a reputed institution Should b...</td>\n",
       "    </tr>\n",
       "    <tr>\n",
       "      <th>19</th>\n",
       "      <td>Senior Data Scientist - Analytics</td>\n",
       "      <td>Bangalore/Bengaluru</td>\n",
       "      <td>Landmark Online</td>\n",
       "      <td>5-7 Yrs</td>\n",
       "      <td>Who are we looking for: - Masters degree in Co...</td>\n",
       "    </tr>\n",
       "  </tbody>\n",
       "</table>\n",
       "</div>"
      ],
      "text/plain": [
       "                                                TITLE  \\\n",
       "0   Required- Data Scientist (NLP)-Axis Bank - 6 m...   \n",
       "1   Opportunity For Data Scientist Internship - Be...   \n",
       "2                             Data Scientist/ Analyst   \n",
       "3   Data Scientist - Python/ MATLAB/ Machine Learn...   \n",
       "4   Principal Data Scientist - Machine/Deep Learni...   \n",
       "5      Data Scientist || Data Analyst || Data science   \n",
       "6                Data Scientist/Senior Data Scientist   \n",
       "7                 Data Scientist - Advanced Analytics   \n",
       "8                                      Data Scientist   \n",
       "9               Senior Data Scientist, , Data Science   \n",
       "10              Data Scientist/Data Analyst-immediate   \n",
       "11                                 Jr. Data Scientist   \n",
       "12                 Business Consultant Data Scientist   \n",
       "13   Senior Data Scientist (Machine Vision solutions)   \n",
       "14       Senior Data Scientist/Manager Data Scientist   \n",
       "15  Eton Solutions- (A Fintech Company)-Data Scien...   \n",
       "16  Hiring Data Scientist with 3+ Years of relevan...   \n",
       "17                         Data Scientist Entry Level   \n",
       "18                               Staff Data Scientist   \n",
       "19                  Senior Data Scientist - Analytics   \n",
       "\n",
       "                                             LOCATION  \\\n",
       "0   Kolkata, New Delhi, Hyderabad/Secunderabad, Pu...   \n",
       "1                                 Bangalore/Bengaluru   \n",
       "2                                 Bangalore/Bengaluru   \n",
       "3                                 Bangalore/Bengaluru   \n",
       "4                                 Bangalore/Bengaluru   \n",
       "5                    Navi Mumbai, Bangalore/Bengaluru   \n",
       "6   Hyderabad/Secunderabad, Pune, Chennai, Bangalo...   \n",
       "7                                 Bangalore/Bengaluru   \n",
       "8                                 Bangalore/Bengaluru   \n",
       "9                                 Bangalore/Bengaluru   \n",
       "10  Hyderabad/Secunderabad, Pune, Chennai, Bangalo...   \n",
       "11                                Bangalore/Bengaluru   \n",
       "12  Hyderabad/Secunderabad, Chennai, Bangalore/Ben...   \n",
       "13                                Bangalore/Bengaluru   \n",
       "14       Noida, Gurgaon/Gurugram, Bangalore/Bengaluru   \n",
       "15                                Bangalore/Bengaluru   \n",
       "16                                Bangalore/Bengaluru   \n",
       "17                                Bangalore/Bengaluru   \n",
       "18                                Bangalore/Bengaluru   \n",
       "19                                Bangalore/Bengaluru   \n",
       "\n",
       "                                       COMPANY EXPERIENCE  \\\n",
       "0                            Axis Bank Limited    4-9 Yrs   \n",
       "1                       Corner Stone Solutions    0-1 Yrs   \n",
       "2              Becton Dickinson India Pvt. Ltd   5-10 Yrs   \n",
       "3                 Wrackle Technologies Pvt Ltd    3-8 Yrs   \n",
       "4                              Fidius advisory   8-13 Yrs   \n",
       "5   Inspiration Manpower Consultancy Pvt. Ltd.   6-11 Yrs   \n",
       "6     GANIT BUSINESS SOLUTIONS PRIVATE LIMITED    4-8 Yrs   \n",
       "7                       IBM India Pvt. Limited  10-15 Yrs   \n",
       "8                   Sony India Software Center    4-9 Yrs   \n",
       "9                                    Visa Inc.   6-10 Yrs   \n",
       "10          Inflexion Analytix Private Limited    0-2 Yrs   \n",
       "11                      TEOCO Software Pvt Ltd    1-3 Yrs   \n",
       "12                 StriveX Consulting Pvt. Ltd    2-4 Yrs   \n",
       "13                ONX Software Systems Pvt Ltd    5-9 Yrs   \n",
       "14                            Novitas Infotech   7-12 Yrs   \n",
       "15   ETON SOLUTIONS AND TECHNOLOGIES INDIA LLP   7-12 Yrs   \n",
       "16        COURSE5 INTELLIGENCE PRIVATE LIMITED    4-7 Yrs   \n",
       "17    NeenOpal Intelligent Solutions Pvt. Ltd.    2-4 Yrs   \n",
       "18                                Walmart Labs   8-10 Yrs   \n",
       "19                             Landmark Online    5-7 Yrs   \n",
       "\n",
       "                                          DESCRIPTION  \n",
       "0   Work from HomeThe candidate should be an exper...  \n",
       "1   Looking for IIT, IIIT IISc, NIT, BIT & Equival...  \n",
       "2   Minimum 2 years of relevant work experience Pr...  \n",
       "3   BS/ MS/ PhD in Computer Science, Statistics, A...  \n",
       "4   Master, Post-graduate or PhD in computer scien...  \n",
       "5   Must HaveGood to haveHuman Resources experienc...  \n",
       "6   Bachelors / Masters degree in Engineering / Te...  \n",
       "7   IntroductionAs a Data Scientist at IBM, you wi...  \n",
       "8   Sony is looking for a Data Scientist(Sr. Softw...  \n",
       "9   We are seeking an innovative and analytical th...  \n",
       "10  In case you are trying to shift your career to...  \n",
       "11  Roles and Responsibilities TEOCO’s Bangalore a...  \n",
       "12  Minimum 3-4 years of experience working closel...  \n",
       "13  Senior Data Scientist (Machine Vision solution...  \n",
       "14  You should be comfortable managing work plans,...  \n",
       "15  Dear Candidate, We have an open position for t...  \n",
       "16  Bachelors degree in Engineering or equivalentR...  \n",
       "17  Should have strong mathematical background ana...  \n",
       "18  BE / BTech from a reputed institution Should b...  \n",
       "19  Who are we looking for: - Masters degree in Co...  "
      ]
     },
     "execution_count": 47,
     "metadata": {},
     "output_type": "execute_result"
    }
   ],
   "source": [
    "jobs"
   ]
  },
  {
   "cell_type": "raw",
   "metadata": {},
   "source": [
    "Q3. You have to scrape data using the filters available on the webpage as shown below:\n",
    "1.The location filter to be used is “Delhi/NCR”\n",
    "2.The salary filter to be used is “3-6” lakhs\n",
    "You have to scrape data for “Data Scientist, i.e. the job-title, job-location, company_name, experience_required."
   ]
  },
  {
   "cell_type": "code",
   "execution_count": 1,
   "metadata": {},
   "outputs": [],
   "source": [
    "import selenium\n",
    "import pandas as pd\n",
    "from selenium import webdriver"
   ]
  },
  {
   "cell_type": "code",
   "execution_count": 2,
   "metadata": {},
   "outputs": [],
   "source": [
    "#connecting to webdriver\n",
    "driver = webdriver.Chrome(r\"C://chromedriver.exe\")"
   ]
  },
  {
   "cell_type": "code",
   "execution_count": 3,
   "metadata": {},
   "outputs": [],
   "source": [
    "driver.get(\"https://www.naukri.com/\")"
   ]
  },
  {
   "cell_type": "code",
   "execution_count": 4,
   "metadata": {},
   "outputs": [],
   "source": [
    "search_job = driver.find_element_by_id ('qsb-keyword-sugg')\n",
    "search_job.send_keys('Data Scientist')"
   ]
  },
  {
   "cell_type": "code",
   "execution_count": 5,
   "metadata": {},
   "outputs": [],
   "source": [
    "search_btn = driver.find_element_by_xpath(\"//div [@class ='search-btn']/button\")\n",
    "search_btn.click()"
   ]
  },
  {
   "cell_type": "code",
   "execution_count": null,
   "metadata": {},
   "outputs": [],
   "source": []
  }
 ],
 "metadata": {
  "kernelspec": {
   "display_name": "Python 3",
   "language": "python",
   "name": "python3"
  },
  "language_info": {
   "codemirror_mode": {
    "name": "ipython",
    "version": 3
   },
   "file_extension": ".py",
   "mimetype": "text/x-python",
   "name": "python",
   "nbconvert_exporter": "python",
   "pygments_lexer": "ipython3",
   "version": "3.7.6"
  }
 },
 "nbformat": 4,
 "nbformat_minor": 4
}
