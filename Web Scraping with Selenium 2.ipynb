{
 "cells": [
  {
   "cell_type": "raw",
   "metadata": {},
   "source": [
    "Q4. To scrape data for Data scientist Designation in Noida location. You have to scrape company_name, No. of days ago when job was posted, Rating of the company."
   ]
  },
  {
   "cell_type": "code",
   "execution_count": 2,
   "metadata": {},
   "outputs": [],
   "source": [
    "import selenium\n",
    "import pandas as pd\n",
    "from selenium import webdriver"
   ]
  },
  {
   "cell_type": "code",
   "execution_count": 2,
   "metadata": {},
   "outputs": [],
   "source": [
    "#connecting to webdriver\n",
    "driver = webdriver.Chrome(r\"C://chromedriver.exe\")"
   ]
  },
  {
   "cell_type": "code",
   "execution_count": 3,
   "metadata": {},
   "outputs": [],
   "source": [
    "driver.get(\"https://www.glassdoor.co.in/sitedirectory/title-jobs.htm\")"
   ]
  },
  {
   "cell_type": "code",
   "execution_count": 4,
   "metadata": {},
   "outputs": [],
   "source": [
    "search_job = driver.find_element_by_id ('sc.keyword')\n",
    "search_job.send_keys('Data Scientist')\n",
    "search_loc = driver.find_element_by_xpath (\"//input[@id = 'sc.location']\")\n",
    "search_loc.send_keys(\"Noida\")"
   ]
  },
  {
   "cell_type": "code",
   "execution_count": 5,
   "metadata": {},
   "outputs": [],
   "source": [
    "search_btn = driver.find_element_by_id ('HeroSearchButton')\n",
    "search_btn.click()"
   ]
  },
  {
   "cell_type": "code",
   "execution_count": 21,
   "metadata": {},
   "outputs": [],
   "source": [
    "url = \"https://www.glassdoor.co.in/Job/noida-data-scientist-jobs-SRCH_IL.0,5_IC4477468_KO6,20.htm\""
   ]
  },
  {
   "cell_type": "code",
   "execution_count": 7,
   "metadata": {},
   "outputs": [],
   "source": [
    "driver.get(url)"
   ]
  },
  {
   "cell_type": "code",
   "execution_count": 8,
   "metadata": {},
   "outputs": [],
   "source": [
    "job_titles = []\n",
    "company_name = []\n",
    "job_posted_on = []\n",
    "company_rating = []"
   ]
  },
  {
   "cell_type": "code",
   "execution_count": 9,
   "metadata": {},
   "outputs": [
    {
     "data": {
      "text/plain": [
       "[<selenium.webdriver.remote.webelement.WebElement (session=\"14722a4ce95c16a5496521c20eac5e79\", element=\"6ab16b59-d9c8-49d3-9b6d-05abb7938ff0\")>,\n",
       " <selenium.webdriver.remote.webelement.WebElement (session=\"14722a4ce95c16a5496521c20eac5e79\", element=\"617e818d-2044-4784-9a06-8d96a6b508f5\")>,\n",
       " <selenium.webdriver.remote.webelement.WebElement (session=\"14722a4ce95c16a5496521c20eac5e79\", element=\"153985a2-96fd-4531-8e3c-42261dd61ede\")>,\n",
       " <selenium.webdriver.remote.webelement.WebElement (session=\"14722a4ce95c16a5496521c20eac5e79\", element=\"3d190f41-258e-44f1-8bd6-ebeb508375da\")>,\n",
       " <selenium.webdriver.remote.webelement.WebElement (session=\"14722a4ce95c16a5496521c20eac5e79\", element=\"c1fe0079-63e0-427a-89b0-924baaef1481\")>,\n",
       " <selenium.webdriver.remote.webelement.WebElement (session=\"14722a4ce95c16a5496521c20eac5e79\", element=\"ad891921-b085-41d6-ada8-09145c8e6f93\")>,\n",
       " <selenium.webdriver.remote.webelement.WebElement (session=\"14722a4ce95c16a5496521c20eac5e79\", element=\"796ccf2a-08ec-42b8-9d5b-6984ce3ba4c8\")>,\n",
       " <selenium.webdriver.remote.webelement.WebElement (session=\"14722a4ce95c16a5496521c20eac5e79\", element=\"7b8012a7-7e3a-4058-ae55-429efb50325c\")>,\n",
       " <selenium.webdriver.remote.webelement.WebElement (session=\"14722a4ce95c16a5496521c20eac5e79\", element=\"f4deefd5-7bee-4cac-a814-e11ca3e1ffe2\")>,\n",
       " <selenium.webdriver.remote.webelement.WebElement (session=\"14722a4ce95c16a5496521c20eac5e79\", element=\"145a5e8d-c30b-47e2-9ec5-b5453ad128a6\")>]"
      ]
     },
     "execution_count": 9,
     "metadata": {},
     "output_type": "execute_result"
    }
   ],
   "source": [
    "#lets extract job titles\n",
    "titles_tags = driver.find_elements_by_xpath (\"//a[@class = 'jobLink css-1rd3saf eigr9kq2']\")\n",
    "titles_tags [0:10]"
   ]
  },
  {
   "cell_type": "code",
   "execution_count": 10,
   "metadata": {},
   "outputs": [
    {
     "data": {
      "text/plain": [
       "['Data Analyst',\n",
       " 'Data Analyst',\n",
       " 'Data Scientist',\n",
       " '',\n",
       " 'Data Scientist',\n",
       " 'Data Scientist',\n",
       " 'Data Scientist - Predictive Modelling, Time Series Forecasting - Gurgaon',\n",
       " 'Data Analyst/Scientist',\n",
       " 'Machine Learning Engineer/ Data Scientist',\n",
       " 'Data Scientist']"
      ]
     },
     "execution_count": 10,
     "metadata": {},
     "output_type": "execute_result"
    }
   ],
   "source": [
    "for i in  titles_tags:\n",
    "    title = i.text\n",
    "    job_titles.append(title)\n",
    "job_titles [0:10]"
   ]
  },
  {
   "cell_type": "code",
   "execution_count": 11,
   "metadata": {},
   "outputs": [
    {
     "data": {
      "text/plain": [
       "[<selenium.webdriver.remote.webelement.WebElement (session=\"14722a4ce95c16a5496521c20eac5e79\", element=\"94092fd7-6f45-4a67-b99d-79b36c4d49e0\")>,\n",
       " <selenium.webdriver.remote.webelement.WebElement (session=\"14722a4ce95c16a5496521c20eac5e79\", element=\"644efd83-659f-4861-8e9a-42fed55c9bdd\")>,\n",
       " <selenium.webdriver.remote.webelement.WebElement (session=\"14722a4ce95c16a5496521c20eac5e79\", element=\"50fe5365-23c1-4f25-bcad-b481bab733c5\")>,\n",
       " <selenium.webdriver.remote.webelement.WebElement (session=\"14722a4ce95c16a5496521c20eac5e79\", element=\"b3a567b4-a3d8-48de-a4fc-bfddc47559e6\")>,\n",
       " <selenium.webdriver.remote.webelement.WebElement (session=\"14722a4ce95c16a5496521c20eac5e79\", element=\"0551a8aa-d9b8-4990-b239-a8e31140f2c6\")>,\n",
       " <selenium.webdriver.remote.webelement.WebElement (session=\"14722a4ce95c16a5496521c20eac5e79\", element=\"5795dbf6-2004-419a-beb2-83bf6ce47e64\")>,\n",
       " <selenium.webdriver.remote.webelement.WebElement (session=\"14722a4ce95c16a5496521c20eac5e79\", element=\"2679ef35-01d2-4e9b-9c3d-baef54625bbe\")>,\n",
       " <selenium.webdriver.remote.webelement.WebElement (session=\"14722a4ce95c16a5496521c20eac5e79\", element=\"696b9c2a-5f81-482a-94d6-367cb92048ff\")>,\n",
       " <selenium.webdriver.remote.webelement.WebElement (session=\"14722a4ce95c16a5496521c20eac5e79\", element=\"5d459d60-c359-45ec-81ca-043e0f58cea3\")>,\n",
       " <selenium.webdriver.remote.webelement.WebElement (session=\"14722a4ce95c16a5496521c20eac5e79\", element=\"33029f75-3c09-4ea5-a5fb-a70f9507180a\")>]"
      ]
     },
     "execution_count": 11,
     "metadata": {},
     "output_type": "execute_result"
    }
   ],
   "source": [
    "#lets extract company names\n",
    "companies_tags = driver.find_elements_by_xpath (\"//div[@class = 'd-flex justify-content-between align-items-start']\")\n",
    "companies_tags [0:10]"
   ]
  },
  {
   "cell_type": "code",
   "execution_count": 12,
   "metadata": {},
   "outputs": [
    {
     "data": {
      "text/plain": [
       "['Ericsson-Worldwide',\n",
       " 'Elsevier',\n",
       " 'Biz2Credit Inc',\n",
       " 'WSD Consultant',\n",
       " 'Adobe',\n",
       " 'xtLytics',\n",
       " 'UnitedHealth Group',\n",
       " 'itForte',\n",
       " 'Dürr Somac GmbH',\n",
       " 'abc consultants']"
      ]
     },
     "execution_count": 12,
     "metadata": {},
     "output_type": "execute_result"
    }
   ],
   "source": [
    "for i in  companies_tags:\n",
    "    company = i.text\n",
    "    company_name.append(company)\n",
    "company_name [0:10]"
   ]
  },
  {
   "cell_type": "code",
   "execution_count": 13,
   "metadata": {},
   "outputs": [
    {
     "data": {
      "text/plain": [
       "[<selenium.webdriver.remote.webelement.WebElement (session=\"14722a4ce95c16a5496521c20eac5e79\", element=\"c67f9209-bcac-4283-8c60-e2f49adcbf65\")>,\n",
       " <selenium.webdriver.remote.webelement.WebElement (session=\"14722a4ce95c16a5496521c20eac5e79\", element=\"67944c4d-b4c0-402c-8232-9758bc5bac52\")>,\n",
       " <selenium.webdriver.remote.webelement.WebElement (session=\"14722a4ce95c16a5496521c20eac5e79\", element=\"db352e2a-edd6-4221-a26f-f69428f01c76\")>,\n",
       " <selenium.webdriver.remote.webelement.WebElement (session=\"14722a4ce95c16a5496521c20eac5e79\", element=\"7a579b97-6d2f-40c4-b49d-9fc5768737ad\")>,\n",
       " <selenium.webdriver.remote.webelement.WebElement (session=\"14722a4ce95c16a5496521c20eac5e79\", element=\"1545166e-d6fa-4852-b719-f49ac99344d0\")>,\n",
       " <selenium.webdriver.remote.webelement.WebElement (session=\"14722a4ce95c16a5496521c20eac5e79\", element=\"2bc12da3-13df-479f-91c2-c096f6a51ec6\")>,\n",
       " <selenium.webdriver.remote.webelement.WebElement (session=\"14722a4ce95c16a5496521c20eac5e79\", element=\"1524a092-f196-4031-8ec2-7cc0eeb0f16a\")>,\n",
       " <selenium.webdriver.remote.webelement.WebElement (session=\"14722a4ce95c16a5496521c20eac5e79\", element=\"a59f1416-a80f-429f-b645-8546ab019879\")>,\n",
       " <selenium.webdriver.remote.webelement.WebElement (session=\"14722a4ce95c16a5496521c20eac5e79\", element=\"a7416a8d-90b8-48d6-9493-4c141c8ccb1a\")>,\n",
       " <selenium.webdriver.remote.webelement.WebElement (session=\"14722a4ce95c16a5496521c20eac5e79\", element=\"cc223104-c6d8-4465-a81b-1adc646d7f79\")>]"
      ]
     },
     "execution_count": 13,
     "metadata": {},
     "output_type": "execute_result"
    }
   ],
   "source": [
    "#lets extract job posted on\n",
    "posted_tags = driver.find_elements_by_xpath (\"//div[@class = 'd-flex align-items-end pl-std css-mi55ob']\")\n",
    "posted_tags [0:10] "
   ]
  },
  {
   "cell_type": "code",
   "execution_count": 14,
   "metadata": {},
   "outputs": [
    {
     "data": {
      "text/plain": [
       "['1d', '6d', '1d', '24h', '8d', '7d', '27d', '20d', '12d', '21d']"
      ]
     },
     "execution_count": 14,
     "metadata": {},
     "output_type": "execute_result"
    }
   ],
   "source": [
    "for i in  posted_tags:\n",
    "    post = i.text\n",
    "    job_posted_on.append(post)\n",
    "job_posted_on [0:10]"
   ]
  },
  {
   "cell_type": "code",
   "execution_count": 15,
   "metadata": {},
   "outputs": [
    {
     "data": {
      "text/plain": [
       "[<selenium.webdriver.remote.webelement.WebElement (session=\"14722a4ce95c16a5496521c20eac5e79\", element=\"13285deb-e09c-44a5-86ac-d96f9136e632\")>,\n",
       " <selenium.webdriver.remote.webelement.WebElement (session=\"14722a4ce95c16a5496521c20eac5e79\", element=\"9b764e01-0c03-49d1-b2e9-d1d41e0e6e04\")>,\n",
       " <selenium.webdriver.remote.webelement.WebElement (session=\"14722a4ce95c16a5496521c20eac5e79\", element=\"7aa5516e-d8ca-432e-b1f2-7882b1491f73\")>,\n",
       " <selenium.webdriver.remote.webelement.WebElement (session=\"14722a4ce95c16a5496521c20eac5e79\", element=\"11453ee5-75cc-4400-a09d-1b7ed09b9368\")>,\n",
       " <selenium.webdriver.remote.webelement.WebElement (session=\"14722a4ce95c16a5496521c20eac5e79\", element=\"22afb87f-47d2-490e-b7f5-49f39232d871\")>,\n",
       " <selenium.webdriver.remote.webelement.WebElement (session=\"14722a4ce95c16a5496521c20eac5e79\", element=\"3a598695-9813-4099-ad78-ba050a0c2bcd\")>,\n",
       " <selenium.webdriver.remote.webelement.WebElement (session=\"14722a4ce95c16a5496521c20eac5e79\", element=\"520d4b47-b6c1-4cda-a7ba-185124fbb39f\")>,\n",
       " <selenium.webdriver.remote.webelement.WebElement (session=\"14722a4ce95c16a5496521c20eac5e79\", element=\"860a9652-5d7f-4ee5-ad90-572434d74a6a\")>,\n",
       " <selenium.webdriver.remote.webelement.WebElement (session=\"14722a4ce95c16a5496521c20eac5e79\", element=\"3bba318d-44c0-463e-8514-93e5d2db5e40\")>,\n",
       " <selenium.webdriver.remote.webelement.WebElement (session=\"14722a4ce95c16a5496521c20eac5e79\", element=\"12a251e3-8aec-4318-9436-f1af059b5675\")>]"
      ]
     },
     "execution_count": 15,
     "metadata": {},
     "output_type": "execute_result"
    }
   ],
   "source": [
    "#lets extract company ratings\n",
    "rating_tags = driver.find_elements_by_xpath (\"//span[@class = 'css-19pjha7 e1cjmv6j1']\")\n",
    "rating_tags [0:10]"
   ]
  },
  {
   "cell_type": "code",
   "execution_count": 16,
   "metadata": {},
   "outputs": [
    {
     "data": {
      "text/plain": [
       "['4.1', '4.3', '3.8', '4.4', '3.0', '3.6', '5.0', '4.2', '3.7', '4.8']"
      ]
     },
     "execution_count": 16,
     "metadata": {},
     "output_type": "execute_result"
    }
   ],
   "source": [
    "for i in  rating_tags:\n",
    "    ratings = i.text\n",
    "    company_rating.append(ratings)\n",
    "company_rating [0:10]"
   ]
  },
  {
   "cell_type": "code",
   "execution_count": 17,
   "metadata": {},
   "outputs": [
    {
     "name": "stdout",
     "output_type": "stream",
     "text": [
      "32 32 32 26\n"
     ]
    }
   ],
   "source": [
    "print (len (job_titles),len (company_name),len (job_posted_on),len (company_rating))"
   ]
  },
  {
   "cell_type": "code",
   "execution_count": 19,
   "metadata": {},
   "outputs": [],
   "source": [
    "#importing pandas\n",
    "jobs = pd.DataFrame ({})\n",
    "jobs ['TITLE'] = job_titles\n",
    "jobs ['COMPANY'] = company_name\n",
    "jobs ['POSTED ON'] = job_posted_on\n",
    "jobs ['COMPANY RATING'] = company_rating"
   ]
  },
  {
   "cell_type": "code",
   "execution_count": 20,
   "metadata": {},
   "outputs": [
    {
     "data": {
      "text/html": [
       "<div>\n",
       "<style scoped>\n",
       "    .dataframe tbody tr th:only-of-type {\n",
       "        vertical-align: middle;\n",
       "    }\n",
       "\n",
       "    .dataframe tbody tr th {\n",
       "        vertical-align: top;\n",
       "    }\n",
       "\n",
       "    .dataframe thead th {\n",
       "        text-align: right;\n",
       "    }\n",
       "</style>\n",
       "<table border=\"1\" class=\"dataframe\">\n",
       "  <thead>\n",
       "    <tr style=\"text-align: right;\">\n",
       "      <th></th>\n",
       "      <th>TITLE</th>\n",
       "      <th>COMPANY</th>\n",
       "      <th>POSTED ON</th>\n",
       "    </tr>\n",
       "  </thead>\n",
       "  <tbody>\n",
       "    <tr>\n",
       "      <th>0</th>\n",
       "      <td>Data Analyst</td>\n",
       "      <td>Ericsson-Worldwide</td>\n",
       "      <td>1d</td>\n",
       "    </tr>\n",
       "    <tr>\n",
       "      <th>1</th>\n",
       "      <td>Data Analyst</td>\n",
       "      <td>Elsevier</td>\n",
       "      <td>6d</td>\n",
       "    </tr>\n",
       "    <tr>\n",
       "      <th>2</th>\n",
       "      <td>Data Scientist</td>\n",
       "      <td>Biz2Credit Inc</td>\n",
       "      <td>1d</td>\n",
       "    </tr>\n",
       "    <tr>\n",
       "      <th>3</th>\n",
       "      <td></td>\n",
       "      <td>WSD Consultant</td>\n",
       "      <td>24h</td>\n",
       "    </tr>\n",
       "    <tr>\n",
       "      <th>4</th>\n",
       "      <td>Data Scientist</td>\n",
       "      <td>Adobe</td>\n",
       "      <td>8d</td>\n",
       "    </tr>\n",
       "    <tr>\n",
       "      <th>5</th>\n",
       "      <td>Data Scientist</td>\n",
       "      <td>xtLytics</td>\n",
       "      <td>7d</td>\n",
       "    </tr>\n",
       "    <tr>\n",
       "      <th>6</th>\n",
       "      <td>Data Scientist - Predictive Modelling, Time Se...</td>\n",
       "      <td>UnitedHealth Group</td>\n",
       "      <td>27d</td>\n",
       "    </tr>\n",
       "    <tr>\n",
       "      <th>7</th>\n",
       "      <td>Data Analyst/Scientist</td>\n",
       "      <td>itForte</td>\n",
       "      <td>20d</td>\n",
       "    </tr>\n",
       "    <tr>\n",
       "      <th>8</th>\n",
       "      <td>Machine Learning Engineer/ Data Scientist</td>\n",
       "      <td>Dürr Somac GmbH</td>\n",
       "      <td>12d</td>\n",
       "    </tr>\n",
       "    <tr>\n",
       "      <th>9</th>\n",
       "      <td>Data Scientist</td>\n",
       "      <td>abc consultants</td>\n",
       "      <td>21d</td>\n",
       "    </tr>\n",
       "    <tr>\n",
       "      <th>10</th>\n",
       "      <td>Data Scientist</td>\n",
       "      <td>Priority Vendor</td>\n",
       "      <td>20d</td>\n",
       "    </tr>\n",
       "    <tr>\n",
       "      <th>11</th>\n",
       "      <td>Data Scientist</td>\n",
       "      <td>Healtheoz India</td>\n",
       "      <td>20d</td>\n",
       "    </tr>\n",
       "    <tr>\n",
       "      <th>12</th>\n",
       "      <td>Data Scientist</td>\n",
       "      <td>Ciena</td>\n",
       "      <td>27d</td>\n",
       "    </tr>\n",
       "    <tr>\n",
       "      <th>13</th>\n",
       "      <td>Machine Learning Engineer/ Data Scientist</td>\n",
       "      <td>Dürr IT Services India</td>\n",
       "      <td>12d</td>\n",
       "    </tr>\n",
       "    <tr>\n",
       "      <th>14</th>\n",
       "      <td>Data Scientist</td>\n",
       "      <td>WishFin</td>\n",
       "      <td>4d</td>\n",
       "    </tr>\n",
       "    <tr>\n",
       "      <th>15</th>\n",
       "      <td>Data Scientist</td>\n",
       "      <td>Salasar New Age Technologies</td>\n",
       "      <td>5d</td>\n",
       "    </tr>\n",
       "    <tr>\n",
       "      <th>16</th>\n",
       "      <td>Data Scientist</td>\n",
       "      <td>Gauge Data Solutions</td>\n",
       "      <td>20d</td>\n",
       "    </tr>\n",
       "    <tr>\n",
       "      <th>17</th>\n",
       "      <td>Data Scientist</td>\n",
       "      <td>Techlive</td>\n",
       "      <td>27d</td>\n",
       "    </tr>\n",
       "    <tr>\n",
       "      <th>18</th>\n",
       "      <td>Data Scientist</td>\n",
       "      <td>IBM</td>\n",
       "      <td>7d</td>\n",
       "    </tr>\n",
       "    <tr>\n",
       "      <th>19</th>\n",
       "      <td>Data Scientist II</td>\n",
       "      <td>NCR</td>\n",
       "      <td>7d</td>\n",
       "    </tr>\n",
       "    <tr>\n",
       "      <th>20</th>\n",
       "      <td>Data Scientist</td>\n",
       "      <td>Team Computers</td>\n",
       "      <td>8d</td>\n",
       "    </tr>\n",
       "    <tr>\n",
       "      <th>21</th>\n",
       "      <td>Data Scientist 2</td>\n",
       "      <td>Microsoft</td>\n",
       "      <td>12d</td>\n",
       "    </tr>\n",
       "    <tr>\n",
       "      <th>22</th>\n",
       "      <td>Jr. Data Scientist</td>\n",
       "      <td>xtLytics</td>\n",
       "      <td>7d</td>\n",
       "    </tr>\n",
       "    <tr>\n",
       "      <th>23</th>\n",
       "      <td>Data Scientist</td>\n",
       "      <td>NatWest Group</td>\n",
       "      <td>9d</td>\n",
       "    </tr>\n",
       "    <tr>\n",
       "      <th>24</th>\n",
       "      <td>Data Scientist</td>\n",
       "      <td>SearchUrCollege</td>\n",
       "      <td>20d</td>\n",
       "    </tr>\n",
       "    <tr>\n",
       "      <th>25</th>\n",
       "      <td>Data Scientist</td>\n",
       "      <td>Profisor Services</td>\n",
       "      <td>20d</td>\n",
       "    </tr>\n",
       "    <tr>\n",
       "      <th>26</th>\n",
       "      <td>Data Scientist - AI/ML Specialist</td>\n",
       "      <td>ANI Calls India Private Limited</td>\n",
       "      <td>17d</td>\n",
       "    </tr>\n",
       "    <tr>\n",
       "      <th>27</th>\n",
       "      <td>Urgent Hiring for Data Scientist Position(Exp ...</td>\n",
       "      <td>Unyscape Infocom Pvt. Ltd</td>\n",
       "      <td>24h</td>\n",
       "    </tr>\n",
       "    <tr>\n",
       "      <th>28</th>\n",
       "      <td>Data Scientist</td>\n",
       "      <td>Analytics Vidhya</td>\n",
       "      <td>20d</td>\n",
       "    </tr>\n",
       "    <tr>\n",
       "      <th>29</th>\n",
       "      <td>Data Scientist</td>\n",
       "      <td>Srijan Technologies Pvt Ltd</td>\n",
       "      <td>26d</td>\n",
       "    </tr>\n",
       "    <tr>\n",
       "      <th>30</th>\n",
       "      <td>Data Scientist</td>\n",
       "      <td>Mahajan Imaging</td>\n",
       "      <td>20d</td>\n",
       "    </tr>\n",
       "    <tr>\n",
       "      <th>31</th>\n",
       "      <td>Data Analyst/ Scientist</td>\n",
       "      <td>ANI Calls India Private Limited</td>\n",
       "      <td>26d</td>\n",
       "    </tr>\n",
       "  </tbody>\n",
       "</table>\n",
       "</div>"
      ],
      "text/plain": [
       "                                                TITLE  \\\n",
       "0                                        Data Analyst   \n",
       "1                                        Data Analyst   \n",
       "2                                      Data Scientist   \n",
       "3                                                       \n",
       "4                                      Data Scientist   \n",
       "5                                      Data Scientist   \n",
       "6   Data Scientist - Predictive Modelling, Time Se...   \n",
       "7                              Data Analyst/Scientist   \n",
       "8           Machine Learning Engineer/ Data Scientist   \n",
       "9                                      Data Scientist   \n",
       "10                                     Data Scientist   \n",
       "11                                     Data Scientist   \n",
       "12                                     Data Scientist   \n",
       "13          Machine Learning Engineer/ Data Scientist   \n",
       "14                                     Data Scientist   \n",
       "15                                     Data Scientist   \n",
       "16                                     Data Scientist   \n",
       "17                                     Data Scientist   \n",
       "18                                     Data Scientist   \n",
       "19                                  Data Scientist II   \n",
       "20                                     Data Scientist   \n",
       "21                                   Data Scientist 2   \n",
       "22                                 Jr. Data Scientist   \n",
       "23                                     Data Scientist   \n",
       "24                                     Data Scientist   \n",
       "25                                     Data Scientist   \n",
       "26                  Data Scientist - AI/ML Specialist   \n",
       "27  Urgent Hiring for Data Scientist Position(Exp ...   \n",
       "28                                     Data Scientist   \n",
       "29                                     Data Scientist   \n",
       "30                                     Data Scientist   \n",
       "31                            Data Analyst/ Scientist   \n",
       "\n",
       "                            COMPANY POSTED ON  \n",
       "0                Ericsson-Worldwide        1d  \n",
       "1                          Elsevier        6d  \n",
       "2                    Biz2Credit Inc        1d  \n",
       "3                    WSD Consultant       24h  \n",
       "4                             Adobe        8d  \n",
       "5                          xtLytics        7d  \n",
       "6                UnitedHealth Group       27d  \n",
       "7                           itForte       20d  \n",
       "8                   Dürr Somac GmbH       12d  \n",
       "9                   abc consultants       21d  \n",
       "10                  Priority Vendor       20d  \n",
       "11                  Healtheoz India       20d  \n",
       "12                            Ciena       27d  \n",
       "13           Dürr IT Services India       12d  \n",
       "14                          WishFin        4d  \n",
       "15     Salasar New Age Technologies        5d  \n",
       "16             Gauge Data Solutions       20d  \n",
       "17                         Techlive       27d  \n",
       "18                              IBM        7d  \n",
       "19                              NCR        7d  \n",
       "20                   Team Computers        8d  \n",
       "21                        Microsoft       12d  \n",
       "22                         xtLytics        7d  \n",
       "23                    NatWest Group        9d  \n",
       "24                  SearchUrCollege       20d  \n",
       "25                Profisor Services       20d  \n",
       "26  ANI Calls India Private Limited       17d  \n",
       "27        Unyscape Infocom Pvt. Ltd       24h  \n",
       "28                 Analytics Vidhya       20d  \n",
       "29      Srijan Technologies Pvt Ltd       26d  \n",
       "30                  Mahajan Imaging       20d  \n",
       "31  ANI Calls India Private Limited       26d  "
      ]
     },
     "execution_count": 20,
     "metadata": {},
     "output_type": "execute_result"
    }
   ],
   "source": [
    "jobs"
   ]
  },
  {
   "cell_type": "raw",
   "metadata": {},
   "source": [
    "Q5. Scrape the min salary, max salary, company name, Average salary and rating of the company."
   ]
  },
  {
   "cell_type": "code",
   "execution_count": 27,
   "metadata": {},
   "outputs": [],
   "source": [
    "#connecting to webdriver\n",
    "driver = webdriver.Chrome(r\"C://chromedriver.exe\")"
   ]
  },
  {
   "cell_type": "code",
   "execution_count": 28,
   "metadata": {},
   "outputs": [],
   "source": [
    "driver.get(\"https://www.glassdoor.co.in/Salaries/index.htm\")"
   ]
  },
  {
   "cell_type": "code",
   "execution_count": 29,
   "metadata": {},
   "outputs": [],
   "source": [
    "search_job = driver.find_element_by_id ('KeywordSearch')\n",
    "search_job.send_keys('Data Scientist')\n",
    "search_loc = driver.find_element_by_xpath (\"//input[@id = 'LocationSearch']\")\n",
    "search_loc.send_keys(\"Noida\")"
   ]
  },
  {
   "cell_type": "code",
   "execution_count": 30,
   "metadata": {},
   "outputs": [],
   "source": [
    "search_btn = driver.find_element_by_id ('HeroSearchButton')\n",
    "search_btn.click()"
   ]
  },
  {
   "cell_type": "code",
   "execution_count": 31,
   "metadata": {},
   "outputs": [],
   "source": [
    "url = \"https://www.glassdoor.co.in/Salaries/new-delhi-data-scientist-salary-SRCH_IL.0,9_IM1083_KO10,24.htm?clickSource=searchBtn\""
   ]
  },
  {
   "cell_type": "code",
   "execution_count": 32,
   "metadata": {},
   "outputs": [],
   "source": [
    "driver.get(url)"
   ]
  },
  {
   "cell_type": "code",
   "execution_count": 33,
   "metadata": {},
   "outputs": [],
   "source": [
    "job_titles = []\n",
    "company_name = []\n",
    "max_salary = []\n",
    "min_salary = []\n",
    "avg_salary = []\n",
    "company_rating = []"
   ]
  },
  {
   "cell_type": "code",
   "execution_count": null,
   "metadata": {},
   "outputs": [],
   "source": []
  }
 ],
 "metadata": {
  "kernelspec": {
   "display_name": "Python 3",
   "language": "python",
   "name": "python3"
  },
  "language_info": {
   "codemirror_mode": {
    "name": "ipython",
    "version": 3
   },
   "file_extension": ".py",
   "mimetype": "text/x-python",
   "name": "python",
   "nbconvert_exporter": "python",
   "pygments_lexer": "ipython3",
   "version": "3.7.6"
  }
 },
 "nbformat": 4,
 "nbformat_minor": 4
}
